{
 "cells": [
  {
   "cell_type": "markdown",
   "metadata": {},
   "source": [
    "# Capstone Project - Retail Investor Behaviour Predictor in US Stock Market\n",
    "### Machine Learning Engineer Nano-degree\n",
    "\n",
    "Retail investor behaviour has always been an area of study in finance given their unique characteristics as well as their importance in the market place. According to regulatory disclosure from retail brokerage firms such as Charles Schwab, TD Ameritrade, etc., it is estimated that retail investor makes up about 15%-20% of volume in US equities market. Understanding how they behave is an interesting topic for any other market participants such as institutional investors and market makers. \n",
    "\n",
    "The problem of interest in this project is to find out if we can predict retail investor will buy or sell next day, given today’s information.  It is common for retail investors to make investment decisions based on readily observable information they can get easy access to, such as price, volume, and if peers surrounding them are also buying or selling. In this project, we will use these public information retail investors derive their decisions from, to find out if there exists a certain pattern of how they behave and predict it. "
   ]
  },
  {
   "cell_type": "markdown",
   "metadata": {},
   "source": [
    "## Data Pre-processing\n",
    "In the first step, we read in all the raw data after aggregating from original data source. Please see merge_price_files.py and merge_popularity_files.py for details of merging process. \n",
    "\n",
    "The aggregated Robinhood popularity file will be merged with the aggregated end-of-day prices file based on ticker per date.\n",
    "\n",
    "We will check the most basics of the data, such as number of symbols covered, date range, number of NAs, etc."
   ]
  },
  {
   "cell_type": "code",
   "execution_count": 1,
   "metadata": {},
   "outputs": [],
   "source": [
    "# data managing and display libs\n",
    "import pandas as pd\n",
    "import numpy as np\n",
    "import os\n",
    "import io\n",
    "import seaborn as sns\n",
    "import matplotlib.pyplot as plt\n",
    "import matplotlib\n",
    "%matplotlib inline "
   ]
  },
  {
   "cell_type": "code",
   "execution_count": 2,
   "metadata": {},
   "outputs": [],
   "source": [
    "# sagemaker libraries\n",
    "import boto3\n",
    "import sagemaker"
   ]
  },
  {
   "cell_type": "code",
   "execution_count": 3,
   "metadata": {},
   "outputs": [],
   "source": [
    "# boto3 client to get S3 data\n",
    "s3_client = boto3.client('s3')\n",
    "# S3 bucket name\n",
    "bucket_name = 'sagemaker-us-east-1-420440669876'"
   ]
  },
  {
   "cell_type": "code",
   "execution_count": 4,
   "metadata": {},
   "outputs": [
    {
     "name": "stdout",
     "output_type": "stream",
     "text": [
      "arn:aws:iam::420440669876:role/service-role/AmazonSageMaker-ExecutionRole-20190923T210467\n"
     ]
    }
   ],
   "source": [
    "from sagemaker import get_execution_role\n",
    "\n",
    "session = sagemaker.Session() # store the current SageMaker session\n",
    "\n",
    "# get IAM role\n",
    "role = get_execution_role()\n",
    "print(role)"
   ]
  },
  {
   "cell_type": "code",
   "execution_count": 5,
   "metadata": {},
   "outputs": [
    {
     "name": "stdout",
     "output_type": "stream",
     "text": [
      "['all_holdings.csv', 'all_holdings_sp500.csv', 'all_prices.csv', 'all_prices_sp500.csv']\n"
     ]
    }
   ],
   "source": [
    "# get a list of objects in the bucket\n",
    "obj_list=s3_client.list_objects(Bucket=bucket_name)\n",
    "\n",
    "# print object(s)in S3 bucket\n",
    "files=[]\n",
    "for contents in obj_list['Contents']:\n",
    "    files.append(contents['Key'])\n",
    "    \n",
    "print(files)"
   ]
  },
  {
   "cell_type": "code",
   "execution_count": 6,
   "metadata": {},
   "outputs": [
    {
     "data": {
      "text/plain": [
       "{'ResponseMetadata': {'RequestId': '0D0B708EC282DA8E',\n",
       "  'HostId': 'qXCENgO3CYbf7weGqX3a9pr3CwVlLL2D9mYkEsfn91soCyaGgv3ytPrvrwQqz1eq+fKqdnVyMKA=',\n",
       "  'HTTPStatusCode': 200,\n",
       "  'HTTPHeaders': {'x-amz-id-2': 'qXCENgO3CYbf7weGqX3a9pr3CwVlLL2D9mYkEsfn91soCyaGgv3ytPrvrwQqz1eq+fKqdnVyMKA=',\n",
       "   'x-amz-request-id': '0D0B708EC282DA8E',\n",
       "   'date': 'Tue, 26 Nov 2019 05:15:12 GMT',\n",
       "   'last-modified': 'Wed, 06 Nov 2019 05:26:40 GMT',\n",
       "   'etag': '\"1313b7b7b139bdce00ba0c7b59c2fad6-4\"',\n",
       "   'accept-ranges': 'bytes',\n",
       "   'content-type': 'text/csv',\n",
       "   'content-length': '54217223',\n",
       "   'server': 'AmazonS3'},\n",
       "  'RetryAttempts': 0},\n",
       " 'AcceptRanges': 'bytes',\n",
       " 'LastModified': datetime.datetime(2019, 11, 6, 5, 26, 40, tzinfo=tzutc()),\n",
       " 'ContentLength': 54217223,\n",
       " 'ETag': '\"1313b7b7b139bdce00ba0c7b59c2fad6-4\"',\n",
       " 'ContentType': 'text/csv',\n",
       " 'Metadata': {},\n",
       " 'Body': <botocore.response.StreamingBody at 0x7f5e0e8d7588>}"
      ]
     },
     "metadata": {},
     "output_type": "display_data"
    },
    {
     "data": {
      "text/plain": [
       "{'ResponseMetadata': {'RequestId': '075B45B936CC5D46',\n",
       "  'HostId': 'tHhBxEjUWnYuT/iFzKUPB3X0qc+L08BZ606Lb9t87+KNfwRBi/G8lsBKJz5fL9EmqHIgRXt/77w=',\n",
       "  'HTTPStatusCode': 200,\n",
       "  'HTTPHeaders': {'x-amz-id-2': 'tHhBxEjUWnYuT/iFzKUPB3X0qc+L08BZ606Lb9t87+KNfwRBi/G8lsBKJz5fL9EmqHIgRXt/77w=',\n",
       "   'x-amz-request-id': '075B45B936CC5D46',\n",
       "   'date': 'Tue, 26 Nov 2019 05:15:12 GMT',\n",
       "   'last-modified': 'Wed, 06 Nov 2019 05:26:40 GMT',\n",
       "   'etag': '\"eb622d74bc2b018108ab1735002fbb4f-26\"',\n",
       "   'accept-ranges': 'bytes',\n",
       "   'content-type': 'text/csv',\n",
       "   'content-length': '437731919',\n",
       "   'server': 'AmazonS3'},\n",
       "  'RetryAttempts': 0},\n",
       " 'AcceptRanges': 'bytes',\n",
       " 'LastModified': datetime.datetime(2019, 11, 6, 5, 26, 40, tzinfo=tzutc()),\n",
       " 'ContentLength': 437731919,\n",
       " 'ETag': '\"eb622d74bc2b018108ab1735002fbb4f-26\"',\n",
       " 'ContentType': 'text/csv',\n",
       " 'Metadata': {},\n",
       " 'Body': <botocore.response.StreamingBody at 0x7f5e0e8d7a58>}"
      ]
     },
     "metadata": {},
     "output_type": "display_data"
    }
   ],
   "source": [
    "# get an S3 object by passing in the bucket and file name\n",
    "data_object_holdings = s3_client.get_object(Bucket=bucket_name, Key='all_holdings.csv')\n",
    "data_object_prices = s3_client.get_object(Bucket=bucket_name, Key='all_prices.csv')\n",
    "\n",
    "# what info does the object contain?\n",
    "display(data_object_holdings)\n",
    "display(data_object_prices)"
   ]
  },
  {
   "cell_type": "code",
   "execution_count": 7,
   "metadata": {},
   "outputs": [],
   "source": [
    "# read in bytes data\n",
    "data_body_holdings = data_object_holdings[\"Body\"].read()\n",
    "data_stream_holdings = io.BytesIO(data_body_holdings)\n",
    "\n",
    "data_body_prices = data_object_prices[\"Body\"].read()\n",
    "data_stream_prices = io.BytesIO(data_body_prices)"
   ]
  },
  {
   "cell_type": "code",
   "execution_count": 8,
   "metadata": {},
   "outputs": [
    {
     "name": "stdout",
     "output_type": "stream",
     "text": [
      "  symbol        date  first_hld  last_hld  std_hld\n",
      "0   CSCO  2018-05-02      23646     23646   0.0000\n",
      "1   CSCO  2018-05-03      23765     23718  21.7609\n",
      "2   CSCO  2018-05-04      23718     23553  82.2720\n",
      "3   CSCO  2018-05-05      23553     23552   0.4714\n",
      "4   CSCO  2018-05-06      23552     23552   0.0000\n",
      "  symbol        date     open     high      low    close  volume\n",
      "0    RIV  2015-12-24  13.2175  13.2441  13.1843  13.1843  436450\n",
      "1    RIV  2015-12-28  13.2043  13.2498  13.1511  13.1511   97077\n",
      "2    RIV  2015-12-29  13.1245  13.2109  13.1179  13.1910   17490\n",
      "3    RIV  2015-12-30  13.2043  13.2441  13.1710  13.2441    8458\n",
      "4    RIV  2015-12-31  13.2441  13.2441  13.1843  13.2175    4103\n"
     ]
    }
   ],
   "source": [
    "holdings = pd.read_csv(data_stream_holdings, header=0, sep=',')\n",
    "print(holdings.head())\n",
    "\n",
    "prices = pd.read_csv(data_stream_prices, header=0, sep=',')\n",
    "print(prices.head())"
   ]
  },
  {
   "cell_type": "code",
   "execution_count": 9,
   "metadata": {},
   "outputs": [],
   "source": [
    "merged = holdings.merge(prices, on=['symbol', 'date'], how='inner')"
   ]
  },
  {
   "cell_type": "code",
   "execution_count": 10,
   "metadata": {},
   "outputs": [
    {
     "name": "stdout",
     "output_type": "stream",
     "text": [
      "<class 'pandas.core.frame.DataFrame'>\n",
      "Int64Index: 876223 entries, 0 to 876222\n",
      "Data columns (total 10 columns):\n",
      "symbol       876223 non-null object\n",
      "date         876223 non-null object\n",
      "first_hld    876223 non-null int64\n",
      "last_hld     876223 non-null int64\n",
      "std_hld      876223 non-null float64\n",
      "open         875688 non-null float64\n",
      "high         875688 non-null float64\n",
      "low          875688 non-null float64\n",
      "close        876223 non-null float64\n",
      "volume       876223 non-null int64\n",
      "dtypes: float64(5), int64(3), object(2)\n",
      "memory usage: 73.5+ MB\n"
     ]
    }
   ],
   "source": [
    "merged.info()"
   ]
  },
  {
   "cell_type": "code",
   "execution_count": 11,
   "metadata": {},
   "outputs": [
    {
     "name": "stdout",
     "output_type": "stream",
     "text": [
      "2019-06-11 2018-05-02\n",
      "2019-10-17 2018-05-02\n",
      "2019-06-11 2014-06-23\n"
     ]
    }
   ],
   "source": [
    "# Check date range from the raw files across all stocks.\n",
    "print(merged['date'].max(), merged['date'].min())\n",
    "print(holdings['date'].max(), holdings['date'].min())\n",
    "print(prices['date'].max(), prices['date'].min())"
   ]
  },
  {
   "cell_type": "code",
   "execution_count": 12,
   "metadata": {},
   "outputs": [
    {
     "name": "stdout",
     "output_type": "stream",
     "text": [
      "3235\n",
      "3235\n",
      "8516\n"
     ]
    }
   ],
   "source": [
    "# Check number of unique stocks in each file. \n",
    "# Since only stocks that exist in price files were included when I aggregated Robinhood popularity file, the numbers are about the same. \n",
    "print(merged['symbol'].nunique())\n",
    "print(holdings['symbol'].nunique())\n",
    "print(prices['symbol'].nunique())"
   ]
  },
  {
   "cell_type": "code",
   "execution_count": 13,
   "metadata": {
    "scrolled": true
   },
   "outputs": [
    {
     "name": "stdout",
     "output_type": "stream",
     "text": [
      "                   first_hld  last_hld  std_hld     open     high      low  \\\n",
      "symbol date                                                                  \n",
      "A      2018-05-02        590       590   0.0000  65.4062  66.2584  65.1782   \n",
      "       2018-05-03        586       587   0.4993  65.1782  65.8620  64.2764   \n",
      "       2018-05-04        587       588   0.4983  65.4359  66.6449  64.9503   \n",
      "       2018-05-07        588       576   3.9737  66.5557  67.3683  66.4665   \n",
      "       2018-05-08        576       580   1.5894  66.4764  66.8282  66.2386   \n",
      "\n",
      "                     close   volume  \n",
      "symbol date                          \n",
      "A      2018-05-02  65.3170  2240482  \n",
      "       2018-05-03  65.7431  2365851  \n",
      "       2018-05-04  66.3972  1331017  \n",
      "       2018-05-07  66.7837  1468735  \n",
      "       2018-05-08  66.7638  1916103  \n",
      "                   first_hld  last_hld  std_hld   open     high    low  close  \\\n",
      "symbol date                                                                     \n",
      "ZYNE   2019-06-05      23519     23548  18.6458  11.93  12.2400  10.88  11.07   \n",
      "       2019-06-06      23548     23413  57.3098  11.07  11.1396  10.38  10.84   \n",
      "       2019-06-07      23413     23315  38.0985  10.75  11.3583  10.60  11.27   \n",
      "       2019-06-10      23315     23264  21.2844  11.40  11.8700  11.32  11.58   \n",
      "       2019-06-11      23264     23280  12.7025  12.28  14.0000  12.00  13.50   \n",
      "\n",
      "                    volume  \n",
      "symbol date                 \n",
      "ZYNE   2019-06-05  2003081  \n",
      "       2019-06-06  1512275  \n",
      "       2019-06-07  1503746  \n",
      "       2019-06-10  1479993  \n",
      "       2019-06-11  6797915  \n"
     ]
    }
   ],
   "source": [
    "# Transform date from string to datetime, and make symbol and date as multiindex of the dataframe. \n",
    "# Sort by symbol and date. Sorting by date is extremely important given we will use index to split training and test data later. \n",
    "merged['date'] = pd.to_datetime(merged['date'])\n",
    "merged.set_index(['symbol','date'], inplace=True)\n",
    "merged.sort_index(ascending=True, inplace=True)\n",
    "print(merged.iloc[:5,:])\n",
    "print(merged.iloc[-5:,:])"
   ]
  },
  {
   "cell_type": "code",
   "execution_count": 14,
   "metadata": {},
   "outputs": [],
   "source": [
    "merged.loc[merged['open'].isnull(), ['open', 'high', 'low']] = merged['close']"
   ]
  },
  {
   "cell_type": "code",
   "execution_count": 15,
   "metadata": {},
   "outputs": [
    {
     "name": "stdout",
     "output_type": "stream",
     "text": [
      "first_hld    0\n",
      "last_hld     0\n",
      "std_hld      0\n",
      "open         0\n",
      "high         0\n",
      "low          0\n",
      "close        0\n",
      "volume       0\n",
      "dtype: int64\n"
     ]
    }
   ],
   "source": [
    "# Check number of NA in each column in the dataframe. \n",
    "print(merged.isnull().sum())\n",
    "merged.dropna(inplace=True)"
   ]
  },
  {
   "cell_type": "markdown",
   "metadata": {},
   "source": [
    "## KMeans - split stocks to different groups"
   ]
  },
  {
   "cell_type": "code",
   "execution_count": 16,
   "metadata": {},
   "outputs": [],
   "source": [
    "# group data by stock and take average value of each column across time series\n",
    "stock_mean = merged.groupby(level=0).agg('mean')\n",
    "kmeans_train_features = stock_mean.values\n",
    "\n",
    "# standardize features\n",
    "from sklearn.preprocessing import StandardScaler\n",
    "scaler = StandardScaler()\n",
    "kmeans_train_features = scaler.fit_transform(kmeans_train_features)"
   ]
  },
  {
   "cell_type": "code",
   "execution_count": 17,
   "metadata": {},
   "outputs": [
    {
     "data": {
      "image/png": "[encoded data removed]",
      "text/plain": [
       "<Figure size 432x288 with 1 Axes>"
      ]
     },
     "metadata": {},
     "output_type": "display_data"
    }
   ],
   "source": [
    "from sklearn.cluster import KMeans\n",
    "K_arr = np.empty((0, 1))\n",
    "distance_arr = np.empty((0,1))\n",
    "\n",
    "# try clustering with number of clusters value from 2 to 10\n",
    "for K in range(10,1,-1):\n",
    "    kmeans = KMeans(n_clusters=K, random_state=0).fit(kmeans_train_features)\n",
    "    sum_distance = kmeans.inertia_\n",
    "    K_arr = np.append(K_arr, K)\n",
    "    distance_arr = np.append(distance_arr, sum_distance)\n",
    "\n",
    "plt.plot(K_arr, distance_arr)\n",
    "plt.show()"
   ]
  },
  {
   "cell_type": "code",
   "execution_count": 18,
   "metadata": {},
   "outputs": [],
   "source": [
    "# decide the best number of cluster use from the elbow shaped chart above\n",
    "best_K = 4\n",
    "kmeans = KMeans(n_clusters=best_K, random_state=0).fit(kmeans_train_features)\n",
    "labels = kmeans.labels_\n",
    "centroids = kmeans.cluster_centers_"
   ]
  },
  {
   "cell_type": "code",
   "execution_count": 19,
   "metadata": {},
   "outputs": [],
   "source": [
    "stock_cluster = pd.DataFrame(np.concatenate((kmeans_train_features, labels[:, np.newaxis]), axis=1), columns=merged.columns.to_list() + ['cluster'], index=stock_mean.index.get_level_values('symbol'))"
   ]
  },
  {
   "cell_type": "code",
   "execution_count": 20,
   "metadata": {},
   "outputs": [],
   "source": [
    "centroids_cluster = pd.DataFrame(centroids, columns=merged.columns.to_list())"
   ]
  },
  {
   "cell_type": "code",
   "execution_count": 21,
   "metadata": {},
   "outputs": [
    {
     "data": {
      "image/png": "[encoded data removed]",
      "text/plain": [
       "<Figure size 648x432 with 2 Axes>"
      ]
     },
     "metadata": {},
     "output_type": "display_data"
    }
   ],
   "source": [
    "# generate a heatmap to show features of centroids of clusters\n",
    "plt.figure(figsize = (9,6))\n",
    "ax = sns.heatmap(centroids_cluster.T, cmap = 'YlGnBu')\n",
    "ax.set_xlabel(\"Cluster\")\n",
    "plt.yticks(fontsize = 8)\n",
    "plt.xticks(fontsize = 8)\n",
    "ax.set_title(\"Attribute Value by Centroid\")\n",
    "plt.show()"
   ]
  },
  {
   "cell_type": "code",
   "execution_count": 22,
   "metadata": {},
   "outputs": [
    {
     "data": {
      "text/plain": [
       "27"
      ]
     },
     "execution_count": 22,
     "metadata": {},
     "output_type": "execute_result"
    }
   ],
   "source": [
    "cluster = 1\n",
    "stock_list_cluster = stock_cluster.loc[stock_cluster['cluster'] == cluster, ].index.to_list()\n",
    "merged_cluster = merged.loc[merged.index.get_level_values('symbol').isin(stock_list_cluster), ]\n",
    "len(merged_cluster.index.get_level_values('symbol').unique())"
   ]
  },
  {
   "cell_type": "code",
   "execution_count": 23,
   "metadata": {},
   "outputs": [
    {
     "data": {
      "text/plain": [
       "Index(['AAPL', 'AMD', 'APHA', 'BABA', 'BAC', 'CGC', 'CHK', 'CRON', 'DIS', 'F',\n",
       "       'FB', 'FIT', 'GE', 'GPRO', 'MSFT', 'MU', 'NFLX', 'NIO', 'NVDA', 'PLUG',\n",
       "       'SNAP', 'SPY', 'SQ', 'T', 'TSLA', 'TWTR', 'ZNGA'],\n",
       "      dtype='object', name='symbol')"
      ]
     },
     "execution_count": 23,
     "metadata": {},
     "output_type": "execute_result"
    }
   ],
   "source": [
    "merged_cluster.index.get_level_values('symbol').unique()"
   ]
  },
  {
   "cell_type": "code",
   "execution_count": 24,
   "metadata": {},
   "outputs": [],
   "source": [
    "merged = merged_cluster"
   ]
  },
  {
   "cell_type": "markdown",
   "metadata": {},
   "source": [
    "## Data Exploration and Visualization\n",
    "\n",
    "In this section, we will transform absolute values into percentage change from previous day. This gives us the benefit of normalizing the data as a starting point, both accross different stocks and along time horizon for the same stock over time. \n",
    "\n",
    "We will examine distribution of these percentage changes by looking at their percentiles and via visulizing them through histograms as well as checking the number of outliers. \n",
    "\n",
    "In addition to checking features, we will also take a closer look at the column we intend to use as the target - Robinhood user holding percentage change. We will look at how balanced the data is and the data quality. \n"
   ]
  },
  {
   "cell_type": "code",
   "execution_count": 25,
   "metadata": {},
   "outputs": [],
   "source": [
    "# Calculate percentage change from previous day for close price, volume, Robinhood user holding.\n",
    "# Since close price and volume data are snapped at end of the day, we use the last timestamp of Robinhood user holding to make it consistent. \n",
    "for idx, data in merged.groupby(level=0):\n",
    "    merged.loc[idx, 'close_pct_chg_1d'] = data['close'].pct_change(periods=1)\n",
    "    merged.loc[idx, 'volume_pct_chg_1d'] = data['volume'].pct_change(periods=1)\n",
    "    merged.loc[idx, 'hld_pct_chg_1d'] = data['last_hld'].pct_change(periods=1)"
   ]
  },
  {
   "cell_type": "code",
   "execution_count": 26,
   "metadata": {},
   "outputs": [
    {
     "data": {
      "text/html": [
       "<div>\n",
       "<style scoped>\n",
       "    .dataframe tbody tr th:only-of-type {\n",
       "        vertical-align: middle;\n",
       "    }\n",
       "\n",
       "    .dataframe tbody tr th {\n",
       "        vertical-align: top;\n",
       "    }\n",
       "\n",
       "    .dataframe thead th {\n",
       "        text-align: right;\n",
       "    }\n",
       "</style>\n",
       "<table border=\"1\" class=\"dataframe\">\n",
       "  <thead>\n",
       "    <tr style=\"text-align: right;\">\n",
       "      <th></th>\n",
       "      <th></th>\n",
       "      <th>first_hld</th>\n",
       "      <th>last_hld</th>\n",
       "      <th>std_hld</th>\n",
       "      <th>open</th>\n",
       "      <th>high</th>\n",
       "      <th>low</th>\n",
       "      <th>close</th>\n",
       "      <th>volume</th>\n",
       "      <th>close_pct_chg_1d</th>\n",
       "      <th>volume_pct_chg_1d</th>\n",
       "      <th>hld_pct_chg_1d</th>\n",
       "    </tr>\n",
       "    <tr>\n",
       "      <th>symbol</th>\n",
       "      <th>date</th>\n",
       "      <th></th>\n",
       "      <th></th>\n",
       "      <th></th>\n",
       "      <th></th>\n",
       "      <th></th>\n",
       "      <th></th>\n",
       "      <th></th>\n",
       "      <th></th>\n",
       "      <th></th>\n",
       "      <th></th>\n",
       "      <th></th>\n",
       "    </tr>\n",
       "  </thead>\n",
       "  <tbody>\n",
       "    <tr>\n",
       "      <th rowspan=\"5\" valign=\"top\">AAPL</th>\n",
       "      <th>2018-05-02</th>\n",
       "      <td>150785</td>\n",
       "      <td>150785</td>\n",
       "      <td>0.0000</td>\n",
       "      <td>171.9347</td>\n",
       "      <td>174.4123</td>\n",
       "      <td>170.5365</td>\n",
       "      <td>173.2544</td>\n",
       "      <td>66539371</td>\n",
       "      <td>NaN</td>\n",
       "      <td>NaN</td>\n",
       "      <td>NaN</td>\n",
       "    </tr>\n",
       "    <tr>\n",
       "      <th>2018-05-03</th>\n",
       "      <td>145510</td>\n",
       "      <td>143747</td>\n",
       "      <td>750.6533</td>\n",
       "      <td>172.5774</td>\n",
       "      <td>174.1670</td>\n",
       "      <td>171.1655</td>\n",
       "      <td>173.5684</td>\n",
       "      <td>34068180</td>\n",
       "      <td>0.001812</td>\n",
       "      <td>-0.488000</td>\n",
       "      <td>-0.046676</td>\n",
       "    </tr>\n",
       "    <tr>\n",
       "      <th>2018-05-04</th>\n",
       "      <td>143747</td>\n",
       "      <td>141424</td>\n",
       "      <td>1148.8285</td>\n",
       "      <td>174.9029</td>\n",
       "      <td>180.7902</td>\n",
       "      <td>174.8244</td>\n",
       "      <td>180.3781</td>\n",
       "      <td>56201317</td>\n",
       "      <td>0.039234</td>\n",
       "      <td>0.649672</td>\n",
       "      <td>-0.016160</td>\n",
       "    </tr>\n",
       "    <tr>\n",
       "      <th>2018-05-07</th>\n",
       "      <td>141437</td>\n",
       "      <td>141179</td>\n",
       "      <td>114.3427</td>\n",
       "      <td>181.7028</td>\n",
       "      <td>184.1460</td>\n",
       "      <td>181.2808</td>\n",
       "      <td>181.6831</td>\n",
       "      <td>42451423</td>\n",
       "      <td>0.007235</td>\n",
       "      <td>-0.244654</td>\n",
       "      <td>-0.001732</td>\n",
       "    </tr>\n",
       "    <tr>\n",
       "      <th>2018-05-08</th>\n",
       "      <td>141179</td>\n",
       "      <td>140820</td>\n",
       "      <td>142.4915</td>\n",
       "      <td>181.5163</td>\n",
       "      <td>182.7232</td>\n",
       "      <td>180.2162</td>\n",
       "      <td>182.5564</td>\n",
       "      <td>28402777</td>\n",
       "      <td>0.004807</td>\n",
       "      <td>-0.330935</td>\n",
       "      <td>-0.002543</td>\n",
       "    </tr>\n",
       "  </tbody>\n",
       "</table>\n",
       "</div>"
      ],
      "text/plain": [
       "                   first_hld  last_hld    std_hld      open      high  \\\n",
       "symbol date                                                             \n",
       "AAPL   2018-05-02     150785    150785     0.0000  171.9347  174.4123   \n",
       "       2018-05-03     145510    143747   750.6533  172.5774  174.1670   \n",
       "       2018-05-04     143747    141424  1148.8285  174.9029  180.7902   \n",
       "       2018-05-07     141437    141179   114.3427  181.7028  184.1460   \n",
       "       2018-05-08     141179    140820   142.4915  181.5163  182.7232   \n",
       "\n",
       "                        low     close    volume  close_pct_chg_1d  \\\n",
       "symbol date                                                         \n",
       "AAPL   2018-05-02  170.5365  173.2544  66539371               NaN   \n",
       "       2018-05-03  171.1655  173.5684  34068180          0.001812   \n",
       "       2018-05-04  174.8244  180.3781  56201317          0.039234   \n",
       "       2018-05-07  181.2808  181.6831  42451423          0.007235   \n",
       "       2018-05-08  180.2162  182.5564  28402777          0.004807   \n",
       "\n",
       "                   volume_pct_chg_1d  hld_pct_chg_1d  \n",
       "symbol date                                           \n",
       "AAPL   2018-05-02                NaN             NaN  \n",
       "       2018-05-03          -0.488000       -0.046676  \n",
       "       2018-05-04           0.649672       -0.016160  \n",
       "       2018-05-07          -0.244654       -0.001732  \n",
       "       2018-05-08          -0.330935       -0.002543  "
      ]
     },
     "execution_count": 26,
     "metadata": {},
     "output_type": "execute_result"
    }
   ],
   "source": [
    "merged.head()"
   ]
  },
  {
   "cell_type": "code",
   "execution_count": 27,
   "metadata": {},
   "outputs": [],
   "source": [
    "# Calculate percentage change from the day's open to close, low to high to normalize data\n",
    "merged['close_open_1d'] = merged['close'] / merged['open'] - 1\n",
    "merged['high_low_1d'] = merged['high'] / merged['low'] - 1\n",
    "\n",
    "# Calculate percentage change from the day's first Robinhood holding reading to last reading\n",
    "merged['intraday_hld_chg_1d'] = merged['last_hld'] / merged['first_hld'] - 1\n",
    "\n",
    "# Rename std_hld column to std_hld_1d to be consistent with others\n",
    "merged.rename(columns={'std_hld':'std_hld_1d'}, inplace=True)"
   ]
  },
  {
   "cell_type": "code",
   "execution_count": 28,
   "metadata": {},
   "outputs": [
    {
     "data": {
      "text/html": [
       "<div>\n",
       "<style scoped>\n",
       "    .dataframe tbody tr th:only-of-type {\n",
       "        vertical-align: middle;\n",
       "    }\n",
       "\n",
       "    .dataframe tbody tr th {\n",
       "        vertical-align: top;\n",
       "    }\n",
       "\n",
       "    .dataframe thead th {\n",
       "        text-align: right;\n",
       "    }\n",
       "</style>\n",
       "<table border=\"1\" class=\"dataframe\">\n",
       "  <thead>\n",
       "    <tr style=\"text-align: right;\">\n",
       "      <th></th>\n",
       "      <th>first_hld</th>\n",
       "      <th>last_hld</th>\n",
       "      <th>std_hld_1d</th>\n",
       "      <th>open</th>\n",
       "      <th>high</th>\n",
       "      <th>low</th>\n",
       "      <th>close</th>\n",
       "      <th>volume</th>\n",
       "      <th>close_pct_chg_1d</th>\n",
       "      <th>volume_pct_chg_1d</th>\n",
       "      <th>hld_pct_chg_1d</th>\n",
       "      <th>close_open_1d</th>\n",
       "      <th>high_low_1d</th>\n",
       "      <th>intraday_hld_chg_1d</th>\n",
       "    </tr>\n",
       "  </thead>\n",
       "  <tbody>\n",
       "    <tr>\n",
       "      <th>count</th>\n",
       "      <td>7139.000000</td>\n",
       "      <td>7139.000000</td>\n",
       "      <td>7139.000000</td>\n",
       "      <td>7139.000000</td>\n",
       "      <td>7139.000000</td>\n",
       "      <td>7139.000000</td>\n",
       "      <td>7139.000000</td>\n",
       "      <td>7.139000e+03</td>\n",
       "      <td>7112.000000</td>\n",
       "      <td>7112.000000</td>\n",
       "      <td>7112.000000</td>\n",
       "      <td>7139.000000</td>\n",
       "      <td>7139.000000</td>\n",
       "      <td>7139.000000</td>\n",
       "    </tr>\n",
       "    <tr>\n",
       "      <th>mean</th>\n",
       "      <td>106745.110099</td>\n",
       "      <td>106977.947051</td>\n",
       "      <td>198.436256</td>\n",
       "      <td>84.076324</td>\n",
       "      <td>85.256470</td>\n",
       "      <td>82.837926</td>\n",
       "      <td>84.075695</td>\n",
       "      <td>2.860958e+07</td>\n",
       "      <td>0.000854</td>\n",
       "      <td>0.090049</td>\n",
       "      <td>0.004309</td>\n",
       "      <td>-0.000147</td>\n",
       "      <td>0.038609</td>\n",
       "      <td>0.004667</td>\n",
       "    </tr>\n",
       "    <tr>\n",
       "      <th>std</th>\n",
       "      <td>53283.343668</td>\n",
       "      <td>53316.058791</td>\n",
       "      <td>392.277328</td>\n",
       "      <td>102.355128</td>\n",
       "      <td>103.723617</td>\n",
       "      <td>100.894399</td>\n",
       "      <td>102.354226</td>\n",
       "      <td>3.212527e+07</td>\n",
       "      <td>0.034263</td>\n",
       "      <td>0.588058</td>\n",
       "      <td>0.051423</td>\n",
       "      <td>0.029532</td>\n",
       "      <td>0.032050</td>\n",
       "      <td>0.070196</td>\n",
       "    </tr>\n",
       "    <tr>\n",
       "      <th>min</th>\n",
       "      <td>149.000000</td>\n",
       "      <td>768.000000</td>\n",
       "      <td>0.000000</td>\n",
       "      <td>1.020000</td>\n",
       "      <td>1.050000</td>\n",
       "      <td>0.989200</td>\n",
       "      <td>1.010000</td>\n",
       "      <td>6.152470e+05</td>\n",
       "      <td>-0.284144</td>\n",
       "      <td>-0.790259</td>\n",
       "      <td>-0.067657</td>\n",
       "      <td>-0.245658</td>\n",
       "      <td>0.002699</td>\n",
       "      <td>-0.067648</td>\n",
       "    </tr>\n",
       "    <tr>\n",
       "      <th>25%</th>\n",
       "      <td>67244.000000</td>\n",
       "      <td>67320.500000</td>\n",
       "      <td>46.307200</td>\n",
       "      <td>7.728650</td>\n",
       "      <td>7.955000</td>\n",
       "      <td>7.500000</td>\n",
       "      <td>7.705000</td>\n",
       "      <td>8.103086e+06</td>\n",
       "      <td>-0.013338</td>\n",
       "      <td>-0.217115</td>\n",
       "      <td>-0.001058</td>\n",
       "      <td>-0.012178</td>\n",
       "      <td>0.019629</td>\n",
       "      <td>-0.001027</td>\n",
       "    </tr>\n",
       "    <tr>\n",
       "      <th>50%</th>\n",
       "      <td>99854.000000</td>\n",
       "      <td>99948.000000</td>\n",
       "      <td>103.293800</td>\n",
       "      <td>30.496600</td>\n",
       "      <td>30.795600</td>\n",
       "      <td>30.202300</td>\n",
       "      <td>30.535800</td>\n",
       "      <td>1.821427e+07</td>\n",
       "      <td>0.000586</td>\n",
       "      <td>-0.023943</td>\n",
       "      <td>0.001058</td>\n",
       "      <td>0.000000</td>\n",
       "      <td>0.030890</td>\n",
       "      <td>0.000998</td>\n",
       "    </tr>\n",
       "    <tr>\n",
       "      <th>75%</th>\n",
       "      <td>143802.000000</td>\n",
       "      <td>143980.500000</td>\n",
       "      <td>223.338900</td>\n",
       "      <td>145.701850</td>\n",
       "      <td>148.915000</td>\n",
       "      <td>143.220000</td>\n",
       "      <td>146.010000</td>\n",
       "      <td>3.735176e+07</td>\n",
       "      <td>0.013863</td>\n",
       "      <td>0.234652</td>\n",
       "      <td>0.004269</td>\n",
       "      <td>0.011651</td>\n",
       "      <td>0.048056</td>\n",
       "      <td>0.004157</td>\n",
       "    </tr>\n",
       "    <tr>\n",
       "      <th>max</th>\n",
       "      <td>269313.000000</td>\n",
       "      <td>269313.000000</td>\n",
       "      <td>18182.902300</td>\n",
       "      <td>421.380000</td>\n",
       "      <td>423.205600</td>\n",
       "      <td>413.080000</td>\n",
       "      <td>418.970000</td>\n",
       "      <td>3.486395e+08</td>\n",
       "      <td>0.757576</td>\n",
       "      <td>19.281615</td>\n",
       "      <td>3.369951</td>\n",
       "      <td>0.752266</td>\n",
       "      <td>0.946319</td>\n",
       "      <td>4.154362</td>\n",
       "    </tr>\n",
       "  </tbody>\n",
       "</table>\n",
       "</div>"
      ],
      "text/plain": [
       "           first_hld       last_hld    std_hld_1d         open         high  \\\n",
       "count    7139.000000    7139.000000   7139.000000  7139.000000  7139.000000   \n",
       "mean   106745.110099  106977.947051    198.436256    84.076324    85.256470   \n",
       "std     53283.343668   53316.058791    392.277328   102.355128   103.723617   \n",
       "min       149.000000     768.000000      0.000000     1.020000     1.050000   \n",
       "25%     67244.000000   67320.500000     46.307200     7.728650     7.955000   \n",
       "50%     99854.000000   99948.000000    103.293800    30.496600    30.795600   \n",
       "75%    143802.000000  143980.500000    223.338900   145.701850   148.915000   \n",
       "max    269313.000000  269313.000000  18182.902300   421.380000   423.205600   \n",
       "\n",
       "               low        close        volume  close_pct_chg_1d  \\\n",
       "count  7139.000000  7139.000000  7.139000e+03       7112.000000   \n",
       "mean     82.837926    84.075695  2.860958e+07          0.000854   \n",
       "std     100.894399   102.354226  3.212527e+07          0.034263   \n",
       "min       0.989200     1.010000  6.152470e+05         -0.284144   \n",
       "25%       7.500000     7.705000  8.103086e+06         -0.013338   \n",
       "50%      30.202300    30.535800  1.821427e+07          0.000586   \n",
       "75%     143.220000   146.010000  3.735176e+07          0.013863   \n",
       "max     413.080000   418.970000  3.486395e+08          0.757576   \n",
       "\n",
       "       volume_pct_chg_1d  hld_pct_chg_1d  close_open_1d  high_low_1d  \\\n",
       "count        7112.000000     7112.000000    7139.000000  7139.000000   \n",
       "mean            0.090049        0.004309      -0.000147     0.038609   \n",
       "std             0.588058        0.051423       0.029532     0.032050   \n",
       "min            -0.790259       -0.067657      -0.245658     0.002699   \n",
       "25%            -0.217115       -0.001058      -0.012178     0.019629   \n",
       "50%            -0.023943        0.001058       0.000000     0.030890   \n",
       "75%             0.234652        0.004269       0.011651     0.048056   \n",
       "max            19.281615        3.369951       0.752266     0.946319   \n",
       "\n",
       "       intraday_hld_chg_1d  \n",
       "count          7139.000000  \n",
       "mean              0.004667  \n",
       "std               0.070196  \n",
       "min              -0.067648  \n",
       "25%              -0.001027  \n",
       "50%               0.000998  \n",
       "75%               0.004157  \n",
       "max               4.154362  "
      ]
     },
     "execution_count": 28,
     "metadata": {},
     "output_type": "execute_result"
    }
   ],
   "source": [
    "# Check statistics metrics of all the columns\n",
    "merged.describe()"
   ]
  },
  {
   "cell_type": "code",
   "execution_count": 29,
   "metadata": {},
   "outputs": [
    {
     "name": "stdout",
     "output_type": "stream",
     "text": [
      "Number of stocks with extreme volume changes : 1\n"
     ]
    }
   ],
   "source": [
    "# Check abnormal volume changes and delete outliers. \n",
    "# Most of them are due to inactive trading or corporate actions, which we don't want to corrupt our time series. \n",
    "\n",
    "volume_chg = merged.groupby(level=0)['volume_pct_chg_1d'].agg(['min', 'max', 'mean'])\n",
    "volume_chg_extreme = volume_chg.loc[(volume_chg['mean'] > 1) | (volume_chg['max'] > 10), ]\n",
    "print(\"Number of stocks with extreme volume changes :\", len(volume_chg_extreme.index))\n",
    "stock_with_volume_chg_extreme = volume_chg_extreme.index.to_list()"
   ]
  },
  {
   "cell_type": "code",
   "execution_count": 30,
   "metadata": {},
   "outputs": [],
   "source": [
    "merged_clean = merged.loc[~merged.index.get_level_values('symbol').isin(stock_with_volume_chg_extreme), ]"
   ]
  },
  {
   "cell_type": "code",
   "execution_count": 31,
   "metadata": {},
   "outputs": [
    {
     "name": "stdout",
     "output_type": "stream",
     "text": [
      "Confirmed  1  stocks were deleted\n"
     ]
    }
   ],
   "source": [
    "diff = len(merged.index.get_level_values('symbol').unique()) - len(merged_clean.index.get_level_values('symbol').unique())\n",
    "print(\"Confirmed \", diff, \" stocks were deleted\")"
   ]
  },
  {
   "cell_type": "code",
   "execution_count": 32,
   "metadata": {},
   "outputs": [
    {
     "data": {
      "text/html": [
       "<div>\n",
       "<style scoped>\n",
       "    .dataframe tbody tr th:only-of-type {\n",
       "        vertical-align: middle;\n",
       "    }\n",
       "\n",
       "    .dataframe tbody tr th {\n",
       "        vertical-align: top;\n",
       "    }\n",
       "\n",
       "    .dataframe thead th {\n",
       "        text-align: right;\n",
       "    }\n",
       "</style>\n",
       "<table border=\"1\" class=\"dataframe\">\n",
       "  <thead>\n",
       "    <tr style=\"text-align: right;\">\n",
       "      <th></th>\n",
       "      <th>first_hld</th>\n",
       "      <th>last_hld</th>\n",
       "      <th>std_hld_1d</th>\n",
       "      <th>open</th>\n",
       "      <th>high</th>\n",
       "      <th>low</th>\n",
       "      <th>close</th>\n",
       "      <th>volume</th>\n",
       "      <th>close_pct_chg_1d</th>\n",
       "      <th>volume_pct_chg_1d</th>\n",
       "      <th>hld_pct_chg_1d</th>\n",
       "      <th>close_open_1d</th>\n",
       "      <th>high_low_1d</th>\n",
       "      <th>intraday_hld_chg_1d</th>\n",
       "    </tr>\n",
       "  </thead>\n",
       "  <tbody>\n",
       "    <tr>\n",
       "      <th>count</th>\n",
       "      <td>6993.000000</td>\n",
       "      <td>6993.000000</td>\n",
       "      <td>6993.000000</td>\n",
       "      <td>6993.000000</td>\n",
       "      <td>6993.000000</td>\n",
       "      <td>6993.000000</td>\n",
       "      <td>6993.000000</td>\n",
       "      <td>6.993000e+03</td>\n",
       "      <td>6967.000000</td>\n",
       "      <td>6967.000000</td>\n",
       "      <td>6967.000000</td>\n",
       "      <td>6993.000000</td>\n",
       "      <td>6993.000000</td>\n",
       "      <td>6993.000000</td>\n",
       "    </tr>\n",
       "    <tr>\n",
       "      <th>mean</th>\n",
       "      <td>108146.157729</td>\n",
       "      <td>108374.491777</td>\n",
       "      <td>198.450793</td>\n",
       "      <td>85.659585</td>\n",
       "      <td>86.859013</td>\n",
       "      <td>84.401541</td>\n",
       "      <td>85.659323</td>\n",
       "      <td>2.906919e+07</td>\n",
       "      <td>0.000899</td>\n",
       "      <td>0.086468</td>\n",
       "      <td>0.003596</td>\n",
       "      <td>-0.000153</td>\n",
       "      <td>0.037856</td>\n",
       "      <td>0.003375</td>\n",
       "    </tr>\n",
       "    <tr>\n",
       "      <th>std</th>\n",
       "      <td>52840.428886</td>\n",
       "      <td>52881.069500</td>\n",
       "      <td>394.493535</td>\n",
       "      <td>102.823490</td>\n",
       "      <td>104.199674</td>\n",
       "      <td>101.353866</td>\n",
       "      <td>102.822304</td>\n",
       "      <td>3.228710e+07</td>\n",
       "      <td>0.033387</td>\n",
       "      <td>0.537956</td>\n",
       "      <td>0.045334</td>\n",
       "      <td>0.028554</td>\n",
       "      <td>0.030862</td>\n",
       "      <td>0.043892</td>\n",
       "    </tr>\n",
       "    <tr>\n",
       "      <th>min</th>\n",
       "      <td>875.000000</td>\n",
       "      <td>881.000000</td>\n",
       "      <td>0.000000</td>\n",
       "      <td>1.020000</td>\n",
       "      <td>1.050000</td>\n",
       "      <td>0.989200</td>\n",
       "      <td>1.010000</td>\n",
       "      <td>6.569000e+05</td>\n",
       "      <td>-0.284144</td>\n",
       "      <td>-0.790259</td>\n",
       "      <td>-0.067657</td>\n",
       "      <td>-0.245658</td>\n",
       "      <td>0.002699</td>\n",
       "      <td>-0.067648</td>\n",
       "    </tr>\n",
       "    <tr>\n",
       "      <th>25%</th>\n",
       "      <td>69555.000000</td>\n",
       "      <td>69684.000000</td>\n",
       "      <td>46.075100</td>\n",
       "      <td>8.060000</td>\n",
       "      <td>8.306700</td>\n",
       "      <td>7.750000</td>\n",
       "      <td>8.060000</td>\n",
       "      <td>8.421188e+06</td>\n",
       "      <td>-0.012984</td>\n",
       "      <td>-0.215993</td>\n",
       "      <td>-0.001086</td>\n",
       "      <td>-0.011994</td>\n",
       "      <td>0.019476</td>\n",
       "      <td>-0.001068</td>\n",
       "    </tr>\n",
       "    <tr>\n",
       "      <th>50%</th>\n",
       "      <td>100803.000000</td>\n",
       "      <td>100883.000000</td>\n",
       "      <td>103.239000</td>\n",
       "      <td>30.860000</td>\n",
       "      <td>31.320300</td>\n",
       "      <td>30.528500</td>\n",
       "      <td>30.895700</td>\n",
       "      <td>1.868519e+07</td>\n",
       "      <td>0.000651</td>\n",
       "      <td>-0.023485</td>\n",
       "      <td>0.000993</td>\n",
       "      <td>0.000000</td>\n",
       "      <td>0.030457</td>\n",
       "      <td>0.000938</td>\n",
       "    </tr>\n",
       "    <tr>\n",
       "      <th>75%</th>\n",
       "      <td>144599.000000</td>\n",
       "      <td>144673.000000</td>\n",
       "      <td>222.838000</td>\n",
       "      <td>149.200000</td>\n",
       "      <td>151.470800</td>\n",
       "      <td>146.470000</td>\n",
       "      <td>148.966200</td>\n",
       "      <td>3.789275e+07</td>\n",
       "      <td>0.013759</td>\n",
       "      <td>0.232872</td>\n",
       "      <td>0.004085</td>\n",
       "      <td>0.011536</td>\n",
       "      <td>0.047266</td>\n",
       "      <td>0.003965</td>\n",
       "    </tr>\n",
       "    <tr>\n",
       "      <th>max</th>\n",
       "      <td>269313.000000</td>\n",
       "      <td>269313.000000</td>\n",
       "      <td>18182.902300</td>\n",
       "      <td>421.380000</td>\n",
       "      <td>423.205600</td>\n",
       "      <td>413.080000</td>\n",
       "      <td>418.970000</td>\n",
       "      <td>3.486395e+08</td>\n",
       "      <td>0.757576</td>\n",
       "      <td>8.446059</td>\n",
       "      <td>3.369951</td>\n",
       "      <td>0.752266</td>\n",
       "      <td>0.946319</td>\n",
       "      <td>3.369951</td>\n",
       "    </tr>\n",
       "  </tbody>\n",
       "</table>\n",
       "</div>"
      ],
      "text/plain": [
       "           first_hld       last_hld    std_hld_1d         open         high  \\\n",
       "count    6993.000000    6993.000000   6993.000000  6993.000000  6993.000000   \n",
       "mean   108146.157729  108374.491777    198.450793    85.659585    86.859013   \n",
       "std     52840.428886   52881.069500    394.493535   102.823490   104.199674   \n",
       "min       875.000000     881.000000      0.000000     1.020000     1.050000   \n",
       "25%     69555.000000   69684.000000     46.075100     8.060000     8.306700   \n",
       "50%    100803.000000  100883.000000    103.239000    30.860000    31.320300   \n",
       "75%    144599.000000  144673.000000    222.838000   149.200000   151.470800   \n",
       "max    269313.000000  269313.000000  18182.902300   421.380000   423.205600   \n",
       "\n",
       "               low        close        volume  close_pct_chg_1d  \\\n",
       "count  6993.000000  6993.000000  6.993000e+03       6967.000000   \n",
       "mean     84.401541    85.659323  2.906919e+07          0.000899   \n",
       "std     101.353866   102.822304  3.228710e+07          0.033387   \n",
       "min       0.989200     1.010000  6.569000e+05         -0.284144   \n",
       "25%       7.750000     8.060000  8.421188e+06         -0.012984   \n",
       "50%      30.528500    30.895700  1.868519e+07          0.000651   \n",
       "75%     146.470000   148.966200  3.789275e+07          0.013759   \n",
       "max     413.080000   418.970000  3.486395e+08          0.757576   \n",
       "\n",
       "       volume_pct_chg_1d  hld_pct_chg_1d  close_open_1d  high_low_1d  \\\n",
       "count        6967.000000     6967.000000    6993.000000  6993.000000   \n",
       "mean            0.086468        0.003596      -0.000153     0.037856   \n",
       "std             0.537956        0.045334       0.028554     0.030862   \n",
       "min            -0.790259       -0.067657      -0.245658     0.002699   \n",
       "25%            -0.215993       -0.001086      -0.011994     0.019476   \n",
       "50%            -0.023485        0.000993       0.000000     0.030457   \n",
       "75%             0.232872        0.004085       0.011536     0.047266   \n",
       "max             8.446059        3.369951       0.752266     0.946319   \n",
       "\n",
       "       intraday_hld_chg_1d  \n",
       "count          6993.000000  \n",
       "mean              0.003375  \n",
       "std               0.043892  \n",
       "min              -0.067648  \n",
       "25%              -0.001068  \n",
       "50%               0.000938  \n",
       "75%               0.003965  \n",
       "max               3.369951  "
      ]
     },
     "execution_count": 32,
     "metadata": {},
     "output_type": "execute_result"
    }
   ],
   "source": [
    "merged_clean.describe()"
   ]
  },
  {
   "cell_type": "code",
   "execution_count": 33,
   "metadata": {},
   "outputs": [
    {
     "data": {
      "text/plain": [
       "hld_pct_chg_1d       0.001001\n",
       "close_pct_chg_1d     0.002002\n",
       "volume_pct_chg_1d    0.541542\n",
       "dtype: float64"
      ]
     },
     "execution_count": 33,
     "metadata": {},
     "output_type": "execute_result"
    }
   ],
   "source": [
    "# Check percentage changes > 20% or < -20%\n",
    "(merged_clean[['hld_pct_chg_1d', 'close_pct_chg_1d', 'volume_pct_chg_1d']].abs() > 0.2).sum() / len(merged_clean.index)"
   ]
  },
  {
   "cell_type": "code",
   "execution_count": 34,
   "metadata": {},
   "outputs": [
    {
     "data": {
      "text/plain": [
       "hld_pct_chg_1d       0.000143\n",
       "close_pct_chg_1d     0.000000\n",
       "volume_pct_chg_1d    0.044616\n",
       "dtype: float64"
      ]
     },
     "execution_count": 34,
     "metadata": {},
     "output_type": "execute_result"
    }
   ],
   "source": [
    "# Check percentage changes > 100% or < -100%\n",
    "(merged_clean[['hld_pct_chg_1d', 'close_pct_chg_1d', 'volume_pct_chg_1d']].abs() > 1).sum() / len(merged_clean.index)"
   ]
  },
  {
   "cell_type": "code",
   "execution_count": 35,
   "metadata": {},
   "outputs": [],
   "source": [
    "# Drop all the absoluate columns  \n",
    "merged_clean = merged_clean.drop(columns=['first_hld','last_hld','open','high','low','close','volume'])"
   ]
  },
  {
   "cell_type": "code",
   "execution_count": 36,
   "metadata": {},
   "outputs": [
    {
     "data": {
      "image/png": "[encoded data removed]",
      "text/plain": [
       "<Figure size 720x216 with 1 Axes>"
      ]
     },
     "metadata": {},
     "output_type": "display_data"
    },
    {
     "name": "stderr",
     "output_type": "stream",
     "text": [
      "/home/ec2-user/anaconda3/envs/tensorflow_p36/lib/python3.6/site-packages/numpy/lib/histograms.py:824: RuntimeWarning: invalid value encountered in greater_equal\n",
      "  keep = (tmp_a >= first_edge)\n",
      "/home/ec2-user/anaconda3/envs/tensorflow_p36/lib/python3.6/site-packages/numpy/lib/histograms.py:825: RuntimeWarning: invalid value encountered in less_equal\n",
      "  keep &= (tmp_a <= last_edge)\n"
     ]
    },
    {
     "data": {
      "image/png": "[encoded data removed]",
      "text/plain": [
       "<Figure size 720x216 with 1 Axes>"
      ]
     },
     "metadata": {},
     "output_type": "display_data"
    },
    {
     "data": {
      "image/png": "[encoded data removed]",
      "text/plain": [
       "<Figure size 720x216 with 1 Axes>"
      ]
     },
     "metadata": {},
     "output_type": "display_data"
    },
    {
     "data": {
      "image/png": "[encoded data removed]",
      "text/plain": [
       "<Figure size 720x216 with 1 Axes>"
      ]
     },
     "metadata": {},
     "output_type": "display_data"
    },
    {
     "data": {
      "image/png": "[encoded data removed]",
      "text/plain": [
       "<Figure size 720x216 with 1 Axes>"
      ]
     },
     "metadata": {},
     "output_type": "display_data"
    },
    {
     "data": {
      "image/png": "[encoded data removed]",
      "text/plain": [
       "<Figure size 720x216 with 1 Axes>"
      ]
     },
     "metadata": {},
     "output_type": "display_data"
    },
    {
     "data": {
      "image/png": "[encoded data removed]",
      "text/plain": [
       "<Figure size 720x216 with 1 Axes>"
      ]
     },
     "metadata": {},
     "output_type": "display_data"
    }
   ],
   "source": [
    "# Visualize distribution of all the columns data\n",
    "\n",
    "cols = merged_clean.columns.to_list()\n",
    "n_bins = 50 # can decrease to get a wider bin (or vice versa)\n",
    "\n",
    "for col in cols:\n",
    "    ax=plt.subplots(figsize=(10,3))\n",
    "    # get data by column_name and display a histogram\n",
    "    ax = plt.hist(merged_clean[col], bins=n_bins)\n",
    "    title=\"Histogram of \" + col\n",
    "    plt.title(title, fontsize=12)\n",
    "    plt.show()"
   ]
  },
  {
   "cell_type": "code",
   "execution_count": 37,
   "metadata": {},
   "outputs": [
    {
     "name": "stdout",
     "output_type": "stream",
     "text": [
      "0.00516721687957514\n",
      "0.6164776804937563\n",
      "0.3783551026266686\n"
     ]
    }
   ],
   "source": [
    "# Check if target data is balanced by looking at number of cases where Robinhood user holding remains flat, increased or decreased\n",
    "print((merged_clean['hld_pct_chg_1d'] == 0).sum() / (merged_clean['hld_pct_chg_1d'].count()))\n",
    "print((merged_clean['hld_pct_chg_1d'] > 0).sum() / (merged_clean['hld_pct_chg_1d'].count()))\n",
    "print((merged_clean['hld_pct_chg_1d'] < 0).sum() / (merged_clean['hld_pct_chg_1d'].count()))"
   ]
  },
  {
   "cell_type": "code",
   "execution_count": 38,
   "metadata": {},
   "outputs": [
    {
     "name": "stdout",
     "output_type": "stream",
     "text": [
      "23\n",
      "13\n"
     ]
    }
   ],
   "source": [
    "# Check further among cases where Robinhood user holding remains flat, if it happens across a wide range of stocks and dates or concentraded in a few stocks and dates\n",
    "# If it sparsely occurred across names and dates, it is less concerning since it is unlikely some single stocks suffer from poor data quality\n",
    "hld_no_change = merged_clean.loc[merged['hld_pct_chg_1d'] == 0,]\n",
    "hld_no_change.reset_index(inplace=True)\n",
    "print(hld_no_change['symbol'].nunique())\n",
    "print(hld_no_change['date'].nunique())"
   ]
  },
  {
   "cell_type": "markdown",
   "metadata": {},
   "source": [
    "## Data Modeling\n",
    "\n",
    "Now we have normalized the original data all into percentage values, and arrived at 3 intraday columns and 3 day-to-day change columns:\n",
    "\n",
    "4 intraday columns:\n",
    "\n",
    "    std_hld_1d: standard deviation of user holdings data across all the timestamps on the day\n",
    "    \n",
    "    close_open_1d: percentage change from the day's open price to close price\n",
    "    \n",
    "    high_low_1d: percentage change from the day's highest price to lowest price (always >= 0)\n",
    "    \n",
    "    intraday_hld_pct_chg_1d: percentage change from the day's first Robinhood holding reading to last reading\n",
    "\n",
    "3 day-to-day columns:\n",
    "\n",
    "    close_pct_chg_1d: percentage change from previous trading day's close price to today's \n",
    "    \n",
    "    volume_pct_chg_1d: percentage change from previous trading day's volume to today's\n",
    "    \n",
    "    hld_pct_chg_1d: percentage change from previous trading day's Robinhood user holding to today's \n",
    "    \n",
    "### Autocorrelation\n",
    "We want to first check the autocorrelation among features. We will choose 10 stocks randomly and glimpse into the autocorrelation pattern on them to have a reasonable estimate on how many days back of data we should include to derive an estimate for next day. "
   ]
  },
  {
   "cell_type": "code",
   "execution_count": 39,
   "metadata": {},
   "outputs": [
    {
     "name": "stdout",
     "output_type": "stream",
     "text": [
      "['FIT']\n"
     ]
    }
   ],
   "source": [
    "symbol_list = merged_clean.index.get_level_values(level='symbol').unique().to_list()\n",
    "random_int = np.random.randint(0, len(symbol_list), size=1)\n",
    "symbol_sample = []\n",
    "for i in random_int:\n",
    "    symbol_sample.append(symbol_list[i])\n",
    "print(symbol_sample)"
   ]
  },
  {
   "cell_type": "code",
   "execution_count": 40,
   "metadata": {},
   "outputs": [],
   "source": [
    "merged_clean.dropna(inplace=True)"
   ]
  },
  {
   "cell_type": "code",
   "execution_count": 41,
   "metadata": {},
   "outputs": [
    {
     "data": {
      "image/png": "[encoded data removed]",
      "text/plain": [
       "<Figure size 432x288 with 1 Axes>"
      ]
     },
     "metadata": {},
     "output_type": "display_data"
    },
    {
     "data": {
      "image/png": "[encoded data removed]",
      "text/plain": [
       "<Figure size 432x288 with 1 Axes>"
      ]
     },
     "metadata": {},
     "output_type": "display_data"
    },
    {
     "data": {
      "image/png": "[encoded data removed]",
      "text/plain": [
       "<Figure size 432x288 with 1 Axes>"
      ]
     },
     "metadata": {},
     "output_type": "display_data"
    },
    {
     "data": {
      "image/png": "[encoded data removed]",
      "text/plain": [
       "<Figure size 432x288 with 1 Axes>"
      ]
     },
     "metadata": {},
     "output_type": "display_data"
    },
    {
     "data": {
      "image/png": "[encoded data removed]",
      "text/plain": [
       "<Figure size 432x288 with 1 Axes>"
      ]
     },
     "metadata": {},
     "output_type": "display_data"
    },
    {
     "data": {
      "image/png": "[encoded data removed]",
      "text/plain": [
       "<Figure size 432x288 with 1 Axes>"
      ]
     },
     "metadata": {},
     "output_type": "display_data"
    }
   ],
   "source": [
    "# calculate acf for random 10 names\n",
    "from statsmodels.graphics.tsaplots import plot_acf\n",
    "\n",
    "for symbol in symbol_sample:\n",
    "    \n",
    "    close_acf = plot_acf(merged_clean.loc[symbol, 'close_pct_chg_1d'], lags = 30)\n",
    "    close_acf.suptitle(symbol + ' close_pct_chg_1d acf', fontsize=15)\n",
    "\n",
    "    volume_acf = plot_acf(merged_clean.loc[symbol, 'volume_pct_chg_1d'], lags = 30)\n",
    "    volume_acf.suptitle(symbol + ' volume_pct_chg_1d acf', fontsize=15)\n",
    "\n",
    "    hld_acf = plot_acf(merged_clean.loc[symbol, 'hld_pct_chg_1d'], lags = 30)\n",
    "    hld_acf.suptitle(symbol + ' hld_pct_chg_1d acf', fontsize=15)\n",
    "    \n",
    "    close_open_acf = plot_acf(merged_clean.loc[symbol, 'close_open_1d'], lags = 30)\n",
    "    close_open_acf.suptitle(symbol + ' close_open_1d acf', fontsize=15)\n",
    "\n",
    "    high_low_acf = plot_acf(merged_clean.loc[symbol, 'high_low_1d'], lags = 30)\n",
    "    high_low_acf.suptitle(symbol + ' high_low_1d acf', fontsize=15)\n",
    "\n",
    "    std_hld_acf = plot_acf(merged_clean.loc[symbol, 'std_hld_1d'], lags = 30)\n",
    "    std_hld_acf.suptitle(symbol + ' std_hld_1d acf', fontsize=15)\n"
   ]
  },
  {
   "cell_type": "markdown",
   "metadata": {},
   "source": [
    "### Correlation\n",
    "Check correlation across figures, and highlight pairs with high correlation (>0.8)"
   ]
  },
  {
   "cell_type": "code",
   "execution_count": 42,
   "metadata": {},
   "outputs": [],
   "source": [
    "corr_matrix = merged_clean.corr().abs().round(2)"
   ]
  },
  {
   "cell_type": "code",
   "execution_count": 43,
   "metadata": {
    "scrolled": true
   },
   "outputs": [
    {
     "data": {
      "text/html": [
       "<div>\n",
       "<style scoped>\n",
       "    .dataframe tbody tr th:only-of-type {\n",
       "        vertical-align: middle;\n",
       "    }\n",
       "\n",
       "    .dataframe tbody tr th {\n",
       "        vertical-align: top;\n",
       "    }\n",
       "\n",
       "    .dataframe thead th {\n",
       "        text-align: right;\n",
       "    }\n",
       "</style>\n",
       "<table border=\"1\" class=\"dataframe\">\n",
       "  <thead>\n",
       "    <tr style=\"text-align: right;\">\n",
       "      <th></th>\n",
       "      <th>std_hld_1d</th>\n",
       "      <th>close_pct_chg_1d</th>\n",
       "      <th>volume_pct_chg_1d</th>\n",
       "      <th>hld_pct_chg_1d</th>\n",
       "      <th>close_open_1d</th>\n",
       "      <th>high_low_1d</th>\n",
       "      <th>intraday_hld_chg_1d</th>\n",
       "    </tr>\n",
       "  </thead>\n",
       "  <tbody>\n",
       "    <tr>\n",
       "      <th>std_hld_1d</th>\n",
       "      <td>1.00</td>\n",
       "      <td>0.10</td>\n",
       "      <td>0.21</td>\n",
       "      <td>0.41</td>\n",
       "      <td>0.11</td>\n",
       "      <td>0.36</td>\n",
       "      <td>0.43</td>\n",
       "    </tr>\n",
       "    <tr>\n",
       "      <th>close_pct_chg_1d</th>\n",
       "      <td>0.10</td>\n",
       "      <td>1.00</td>\n",
       "      <td>0.14</td>\n",
       "      <td>0.23</td>\n",
       "      <td>0.82</td>\n",
       "      <td>0.09</td>\n",
       "      <td>0.24</td>\n",
       "    </tr>\n",
       "    <tr>\n",
       "      <th>volume_pct_chg_1d</th>\n",
       "      <td>0.21</td>\n",
       "      <td>0.14</td>\n",
       "      <td>1.00</td>\n",
       "      <td>0.06</td>\n",
       "      <td>0.06</td>\n",
       "      <td>0.31</td>\n",
       "      <td>0.06</td>\n",
       "    </tr>\n",
       "    <tr>\n",
       "      <th>hld_pct_chg_1d</th>\n",
       "      <td>0.41</td>\n",
       "      <td>0.23</td>\n",
       "      <td>0.06</td>\n",
       "      <td>1.00</td>\n",
       "      <td>0.26</td>\n",
       "      <td>0.38</td>\n",
       "      <td>0.97</td>\n",
       "    </tr>\n",
       "    <tr>\n",
       "      <th>close_open_1d</th>\n",
       "      <td>0.11</td>\n",
       "      <td>0.82</td>\n",
       "      <td>0.06</td>\n",
       "      <td>0.26</td>\n",
       "      <td>1.00</td>\n",
       "      <td>0.07</td>\n",
       "      <td>0.27</td>\n",
       "    </tr>\n",
       "    <tr>\n",
       "      <th>high_low_1d</th>\n",
       "      <td>0.36</td>\n",
       "      <td>0.09</td>\n",
       "      <td>0.31</td>\n",
       "      <td>0.38</td>\n",
       "      <td>0.07</td>\n",
       "      <td>1.00</td>\n",
       "      <td>0.39</td>\n",
       "    </tr>\n",
       "    <tr>\n",
       "      <th>intraday_hld_chg_1d</th>\n",
       "      <td>0.43</td>\n",
       "      <td>0.24</td>\n",
       "      <td>0.06</td>\n",
       "      <td>0.97</td>\n",
       "      <td>0.27</td>\n",
       "      <td>0.39</td>\n",
       "      <td>1.00</td>\n",
       "    </tr>\n",
       "  </tbody>\n",
       "</table>\n",
       "</div>"
      ],
      "text/plain": [
       "                     std_hld_1d  close_pct_chg_1d  volume_pct_chg_1d  \\\n",
       "std_hld_1d                 1.00              0.10               0.21   \n",
       "close_pct_chg_1d           0.10              1.00               0.14   \n",
       "volume_pct_chg_1d          0.21              0.14               1.00   \n",
       "hld_pct_chg_1d             0.41              0.23               0.06   \n",
       "close_open_1d              0.11              0.82               0.06   \n",
       "high_low_1d                0.36              0.09               0.31   \n",
       "intraday_hld_chg_1d        0.43              0.24               0.06   \n",
       "\n",
       "                     hld_pct_chg_1d  close_open_1d  high_low_1d  \\\n",
       "std_hld_1d                     0.41           0.11         0.36   \n",
       "close_pct_chg_1d               0.23           0.82         0.09   \n",
       "volume_pct_chg_1d              0.06           0.06         0.31   \n",
       "hld_pct_chg_1d                 1.00           0.26         0.38   \n",
       "close_open_1d                  0.26           1.00         0.07   \n",
       "high_low_1d                    0.38           0.07         1.00   \n",
       "intraday_hld_chg_1d            0.97           0.27         0.39   \n",
       "\n",
       "                     intraday_hld_chg_1d  \n",
       "std_hld_1d                          0.43  \n",
       "close_pct_chg_1d                    0.24  \n",
       "volume_pct_chg_1d                   0.06  \n",
       "hld_pct_chg_1d                      0.97  \n",
       "close_open_1d                       0.27  \n",
       "high_low_1d                         0.39  \n",
       "intraday_hld_chg_1d                 1.00  "
      ]
     },
     "execution_count": 43,
     "metadata": {},
     "output_type": "execute_result"
    }
   ],
   "source": [
    "corr_matrix"
   ]
  },
  {
   "cell_type": "code",
   "execution_count": 44,
   "metadata": {},
   "outputs": [
    {
     "name": "stdout",
     "output_type": "stream",
     "text": [
      "close_pct_chg_1d close_open_1d\n",
      "hld_pct_chg_1d intraday_hld_chg_1d\n"
     ]
    }
   ],
   "source": [
    "# Print the pair of features with correlation higher than 0.8\n",
    "corr = corr_matrix.to_numpy()\n",
    "col = corr_matrix.columns.to_list()\n",
    "row = corr_matrix.index.to_list()\n",
    "for i in range(0, len(row)):\n",
    "    for j in range(0, len(col)):\n",
    "        if (corr[i, j] > 0.8) & (i < j):\n",
    "            print(row[i], col[j])"
   ]
  },
  {
   "cell_type": "markdown",
   "metadata": {},
   "source": [
    "### Create data shift\n",
    "After examining correlation and autocorrelation, it is time to create data shift. For each date, we provide percentage change numbers from T-5 to T-1 of all the features, by shifting those percentage change data per stock upwards. \n",
    "\n",
    "To get target column 'y', we shift holding percentage change data backwards for one day, to become last trading day's target. "
   ]
  },
  {
   "cell_type": "code",
   "execution_count": 45,
   "metadata": {},
   "outputs": [],
   "source": [
    "cols = merged_clean.columns.to_list()\n",
    "cols_num = len(cols)\n",
    "\n",
    "for idx, data in merged_clean.groupby(level=0):\n",
    "    for i in range(5, 1, -1):\n",
    "        for col in cols:\n",
    "            new_col = col.replace('1', str(i))\n",
    "            merged_clean.loc[idx, new_col] = data[col].shift(i-1)\n",
    "    merged_clean.loc[idx, 'y'] = data['hld_pct_chg_1d'].shift(-1)    "
   ]
  },
  {
   "cell_type": "code",
   "execution_count": 46,
   "metadata": {},
   "outputs": [],
   "source": [
    "# Change order of columns to \"features of T-5 .... T-1, Target\" for easier later implementation in LSTM model\n",
    "cols = merged_clean.columns.to_list()\n",
    "cols = cols[cols_num:-1] + cols[0:cols_num] + [cols[-1]]\n",
    "merged_clean = merged_clean[cols]"
   ]
  },
  {
   "cell_type": "code",
   "execution_count": 47,
   "metadata": {},
   "outputs": [],
   "source": [
    "# Drop NA columns again since shifting data to get T-5 created up to 5 rows of NA rows at the beginning of each stock's data\n",
    "merged_clean.dropna(inplace=True)"
   ]
  },
  {
   "cell_type": "code",
   "execution_count": 48,
   "metadata": {},
   "outputs": [],
   "source": [
    "merged_clean.loc[merged_clean['y'] > 0, 'y_code'] = 0\n",
    "merged_clean.loc[merged_clean['y'] == 0, 'y_code'] = 1 \n",
    "merged_clean.loc[merged_clean['y'] < 0, 'y_code'] = 2 \n",
    "merged_clean['y_code'] = merged_clean['y_code'].astype('int')\n",
    "merged_clean = merged_clean.drop(columns=['y'])"
   ]
  },
  {
   "cell_type": "code",
   "execution_count": 49,
   "metadata": {},
   "outputs": [
    {
     "data": {
      "text/plain": [
       "array(['std_hld_5d', 'close_pct_chg_5d', 'volume_pct_chg_5d',\n",
       "       'hld_pct_chg_5d', 'close_open_5d', 'high_low_5d',\n",
       "       'intraday_hld_chg_5d', 'std_hld_4d', 'close_pct_chg_4d',\n",
       "       'volume_pct_chg_4d', 'hld_pct_chg_4d', 'close_open_4d',\n",
       "       'high_low_4d', 'intraday_hld_chg_4d', 'std_hld_3d',\n",
       "       'close_pct_chg_3d', 'volume_pct_chg_3d', 'hld_pct_chg_3d',\n",
       "       'close_open_3d', 'high_low_3d', 'intraday_hld_chg_3d',\n",
       "       'std_hld_2d', 'close_pct_chg_2d', 'volume_pct_chg_2d',\n",
       "       'hld_pct_chg_2d', 'close_open_2d', 'high_low_2d',\n",
       "       'intraday_hld_chg_2d', 'std_hld_1d', 'close_pct_chg_1d',\n",
       "       'volume_pct_chg_1d', 'hld_pct_chg_1d', 'close_open_1d',\n",
       "       'high_low_1d', 'intraday_hld_chg_1d', 'y_code'], dtype=object)"
      ]
     },
     "execution_count": 49,
     "metadata": {},
     "output_type": "execute_result"
    }
   ],
   "source": [
    "merged_clean.columns.values"
   ]
  },
  {
   "cell_type": "code",
   "execution_count": 50,
   "metadata": {},
   "outputs": [
    {
     "data": {
      "image/png": "[encoded data removed]",
      "text/plain": [
       "<Figure size 432x288 with 1 Axes>"
      ]
     },
     "metadata": {},
     "output_type": "display_data"
    }
   ],
   "source": [
    "plt.hist(merged_clean['y_code'])\n",
    "plt.show()"
   ]
  },
  {
   "cell_type": "markdown",
   "metadata": {},
   "source": [
    "## Train Test Data Split\n",
    "\n",
    "One unique thing about the data here is they are arranged in symbol / date multiindex. To split train test data for this time-series problem across stocks, it is only fair to use earlier dates as training data, and later dates as test data, to avoid look ahead bias. Furthermore, because we look across stocks, we will need to loop over all the stocks and create the train-test split by date per stock."
   ]
  },
  {
   "cell_type": "code",
   "execution_count": 51,
   "metadata": {},
   "outputs": [
    {
     "name": "stderr",
     "output_type": "stream",
     "text": [
      "Using TensorFlow backend.\n"
     ]
    }
   ],
   "source": [
    "# split into train/test\n",
    "from keras.utils.np_utils import to_categorical\n",
    "\n",
    "def train_test_split(df, train_frac= 0.7):\n",
    "    \n",
    "    train_features = np.empty((0,len(df.columns)-1))\n",
    "    train_labels = np.empty((0,3))\n",
    "    train_labels_original = np.empty((0,))\n",
    "    test_features = np.empty((0,len(df.columns)-1))\n",
    "    test_labels = np.empty((0,3))\n",
    "    test_labels_original = np.empty((0,))\n",
    "    \n",
    "    for idx, data in df.groupby(level=0):\n",
    "        # convert the df into a matrix for ease of splitting\n",
    "        data_matrix = data.values\n",
    "        # split the data\n",
    "        train_size = int(data_matrix.shape[0] * train_frac)\n",
    "        \n",
    "        # features are all but last column\n",
    "        train_features_clip  = data_matrix[:train_size, :-1]\n",
    "        test_features_clip = data_matrix[train_size:, :-1]\n",
    "        # class labels are last column\n",
    "        train_labels_clip_original = data_matrix[:train_size, -1]\n",
    "        train_labels_clip = to_categorical(train_labels_clip_original, num_classes=3)\n",
    "        test_labels_clip_original = data_matrix[train_size:, -1]\n",
    "        test_labels_clip = to_categorical(test_labels_clip_original, num_classes=3)\n",
    "        \n",
    "        # aggregate train and test data across symbols \n",
    "        train_features = np.append(train_features, train_features_clip, axis=0)\n",
    "        train_labels = np.append(train_labels, train_labels_clip, axis=0)\n",
    "        train_labels_original = np.append(train_labels_original, train_labels_clip_original, axis=0) \n",
    "        test_features = np.append(test_features, test_features_clip, axis=0)\n",
    "        test_labels = np.append(test_labels, test_labels_clip, axis=0)\n",
    "        test_labels_original = np.append(test_labels_original, test_labels_clip_original, axis=0) \n",
    "        \n",
    "    plt.hist(train_labels_original)\n",
    "    plt.title('train_labels')\n",
    "    plt.show()\n",
    "        \n",
    "    plt.hist(test_labels_original)\n",
    "    plt.title('test_labels')\n",
    "    plt.show()\n",
    "    \n",
    "    return (train_features, train_labels, train_labels_original), (test_features, test_labels, test_labels_original)"
   ]
  },
  {
   "cell_type": "code",
   "execution_count": 52,
   "metadata": {},
   "outputs": [
    {
     "data": {
      "image/png": "[encoded data removed]",
      "text/plain": [
       "<Figure size 432x288 with 1 Axes>"
      ]
     },
     "metadata": {},
     "output_type": "display_data"
    },
    {
     "data": {
      "image/png": "[encoded data removed]",
      "text/plain": [
       "<Figure size 432x288 with 1 Axes>"
      ]
     },
     "metadata": {},
     "output_type": "display_data"
    }
   ],
   "source": [
    "# get train/test data\n",
    "(train_features, train_labels, train_labels_original), (test_features, test_labels, test_labels_original) = train_test_split(merged_clean, train_frac=0.8)\n",
    "\n"
   ]
  },
  {
   "cell_type": "code",
   "execution_count": 53,
   "metadata": {},
   "outputs": [],
   "source": [
    "from sklearn.preprocessing import StandardScaler\n",
    "scaler = StandardScaler()\n",
    "train_features = scaler.fit_transform(train_features)"
   ]
  },
  {
   "cell_type": "markdown",
   "metadata": {},
   "source": [
    "## PCA"
   ]
  },
  {
   "cell_type": "code",
   "execution_count": 54,
   "metadata": {},
   "outputs": [
    {
     "data": {
      "text/plain": [
       "PCA(copy=True, iterated_power='auto', n_components=20, random_state=None,\n",
       "    svd_solver='auto', tol=0.0, whiten=False)"
      ]
     },
     "execution_count": 54,
     "metadata": {},
     "output_type": "execute_result"
    }
   ],
   "source": [
    "from sklearn.decomposition import PCA\n",
    "n_components = 20\n",
    "pca = PCA(n_components=n_components)\n",
    "pca.fit(train_features)"
   ]
  },
  {
   "cell_type": "code",
   "execution_count": 55,
   "metadata": {},
   "outputs": [
    {
     "name": "stdout",
     "output_type": "stream",
     "text": [
      "[0.17998454 0.09209963 0.07483564 0.06188487 0.05997429 0.05336854\n",
      " 0.04952368 0.04339164 0.04105949 0.04013256 0.03767256 0.03645032\n",
      " 0.03163475 0.02953983 0.02657263 0.02494667 0.01618988 0.01397628\n",
      " 0.01026704 0.00821368]\n"
     ]
    }
   ],
   "source": [
    "print(pca.explained_variance_ratio_)  "
   ]
  },
  {
   "cell_type": "code",
   "execution_count": 56,
   "metadata": {},
   "outputs": [
    {
     "name": "stdout",
     "output_type": "stream",
     "text": [
      "[185.44202853 132.65374452 119.57622049 108.73836683 107.04666011\n",
      " 100.97950667  97.27405508  91.05286118  88.57218215  87.56670749\n",
      "  84.8404807   83.45286184  77.74505999  75.12674649  71.25376247\n",
      "  69.03937904  55.61761653  51.67570056  44.29077105  39.61498073]\n"
     ]
    }
   ],
   "source": [
    "print(pca.singular_values_)  "
   ]
  },
  {
   "cell_type": "code",
   "execution_count": 57,
   "metadata": {},
   "outputs": [
    {
     "data": {
      "text/plain": [
       "0.9317185286241934"
      ]
     },
     "execution_count": 57,
     "metadata": {},
     "output_type": "execute_result"
    }
   ],
   "source": [
    "evr = pca.explained_variance_ratio_\n",
    "evr.sum()"
   ]
  },
  {
   "cell_type": "code",
   "execution_count": 58,
   "metadata": {},
   "outputs": [],
   "source": [
    "pca_train_features = pca.transform(train_features)\n",
    "pca_train_df = pd.DataFrame(data = pca_train_features,\n",
    "                           columns = ['c'+str(i) for i in range(1, n_components+1)])"
   ]
  },
  {
   "cell_type": "code",
   "execution_count": 59,
   "metadata": {},
   "outputs": [
    {
     "data": {
      "text/html": [
       "<div>\n",
       "<style scoped>\n",
       "    .dataframe tbody tr th:only-of-type {\n",
       "        vertical-align: middle;\n",
       "    }\n",
       "\n",
       "    .dataframe tbody tr th {\n",
       "        vertical-align: top;\n",
       "    }\n",
       "\n",
       "    .dataframe thead th {\n",
       "        text-align: right;\n",
       "    }\n",
       "</style>\n",
       "<table border=\"1\" class=\"dataframe\">\n",
       "  <thead>\n",
       "    <tr style=\"text-align: right;\">\n",
       "      <th></th>\n",
       "      <th>c1</th>\n",
       "      <th>c2</th>\n",
       "      <th>c3</th>\n",
       "      <th>c4</th>\n",
       "      <th>c5</th>\n",
       "      <th>c6</th>\n",
       "      <th>c7</th>\n",
       "      <th>c8</th>\n",
       "      <th>c9</th>\n",
       "      <th>c10</th>\n",
       "      <th>c11</th>\n",
       "      <th>c12</th>\n",
       "      <th>c13</th>\n",
       "      <th>c14</th>\n",
       "      <th>c15</th>\n",
       "      <th>c16</th>\n",
       "      <th>c17</th>\n",
       "      <th>c18</th>\n",
       "      <th>c19</th>\n",
       "      <th>c20</th>\n",
       "    </tr>\n",
       "  </thead>\n",
       "  <tbody>\n",
       "    <tr>\n",
       "      <th>0</th>\n",
       "      <td>-1.605093</td>\n",
       "      <td>-0.037662</td>\n",
       "      <td>0.223713</td>\n",
       "      <td>-0.971230</td>\n",
       "      <td>1.252895</td>\n",
       "      <td>-0.956018</td>\n",
       "      <td>-1.516546</td>\n",
       "      <td>0.280606</td>\n",
       "      <td>-0.056900</td>\n",
       "      <td>-0.673360</td>\n",
       "      <td>1.204363</td>\n",
       "      <td>-0.609726</td>\n",
       "      <td>1.467505</td>\n",
       "      <td>0.563051</td>\n",
       "      <td>-0.800826</td>\n",
       "      <td>-0.580818</td>\n",
       "      <td>1.331236</td>\n",
       "      <td>0.883624</td>\n",
       "      <td>1.247886</td>\n",
       "      <td>-0.478740</td>\n",
       "    </tr>\n",
       "    <tr>\n",
       "      <th>1</th>\n",
       "      <td>-1.100934</td>\n",
       "      <td>0.860648</td>\n",
       "      <td>1.405486</td>\n",
       "      <td>0.214233</td>\n",
       "      <td>-0.584852</td>\n",
       "      <td>-0.490461</td>\n",
       "      <td>-1.119593</td>\n",
       "      <td>-0.003269</td>\n",
       "      <td>-0.134195</td>\n",
       "      <td>0.320613</td>\n",
       "      <td>0.378790</td>\n",
       "      <td>-1.860191</td>\n",
       "      <td>-0.443938</td>\n",
       "      <td>0.206164</td>\n",
       "      <td>-0.303628</td>\n",
       "      <td>-0.808224</td>\n",
       "      <td>1.322857</td>\n",
       "      <td>1.182574</td>\n",
       "      <td>-0.422981</td>\n",
       "      <td>0.201605</td>\n",
       "    </tr>\n",
       "  </tbody>\n",
       "</table>\n",
       "</div>"
      ],
      "text/plain": [
       "         c1        c2        c3        c4        c5        c6        c7  \\\n",
       "0 -1.605093 -0.037662  0.223713 -0.971230  1.252895 -0.956018 -1.516546   \n",
       "1 -1.100934  0.860648  1.405486  0.214233 -0.584852 -0.490461 -1.119593   \n",
       "\n",
       "         c8        c9       c10       c11       c12       c13       c14  \\\n",
       "0  0.280606 -0.056900 -0.673360  1.204363 -0.609726  1.467505  0.563051   \n",
       "1 -0.003269 -0.134195  0.320613  0.378790 -1.860191 -0.443938  0.206164   \n",
       "\n",
       "        c15       c16       c17       c18       c19       c20  \n",
       "0 -0.800826 -0.580818  1.331236  0.883624  1.247886 -0.478740  \n",
       "1 -0.303628 -0.808224  1.322857  1.182574 -0.422981  0.201605  "
      ]
     },
     "execution_count": 59,
     "metadata": {},
     "output_type": "execute_result"
    }
   ],
   "source": [
    "pca_train_df.head(2)"
   ]
  },
  {
   "cell_type": "code",
   "execution_count": 60,
   "metadata": {},
   "outputs": [],
   "source": [
    "def show_comp(component_num, features_list):    \n",
    "    comps_arr = pca.components_[component_num - 1]\n",
    "    \n",
    "    # match weights to features in counties_scaled dataframe, using list comporehension\n",
    "    comps = pd.DataFrame(list(zip(comps_arr, features_list)), \n",
    "                         columns=['weights', 'features'])\n",
    "\n",
    "    # we'll want to sort by the largest n_weights\n",
    "    # weights can be neg/pos and we'll sort by magnitude\n",
    "    comps['abs_weights']=comps['weights'].apply(lambda x: np.abs(x))\n",
    "    sorted_weight_data = comps.sort_values('abs_weights', ascending=False)\n",
    "\n",
    "    # display using seaborn\n",
    "    ax=plt.subplots(figsize=(10,6))\n",
    "    ax=sns.barplot(data=sorted_weight_data, \n",
    "                   x=\"weights\", \n",
    "                   y=\"features\", \n",
    "                   palette=\"Blues_d\")\n",
    "    ax.set_title(\"PCA Component Makeup, Component #\" + str(component_num))\n",
    "    plt.show()"
   ]
  },
  {
   "cell_type": "code",
   "execution_count": 61,
   "metadata": {},
   "outputs": [
    {
     "data": {
      "image/png": "[encoded data removed]",
      "text/plain": [
       "<Figure size 720x432 with 1 Axes>"
      ]
     },
     "metadata": {},
     "output_type": "display_data"
    }
   ],
   "source": [
    "features_list = merged_clean.columns.to_list()\n",
    "features_list = features_list[:-1]\n",
    "show_comp(1, features_list)"
   ]
  },
  {
   "cell_type": "markdown",
   "metadata": {},
   "source": [
    "## sklearn"
   ]
  },
  {
   "cell_type": "code",
   "execution_count": 62,
   "metadata": {},
   "outputs": [],
   "source": [
    "def evaluation_metrics(test_labels, test_preds):\n",
    "\n",
    "    # calculate true positives, false positives, true negatives, false negatives\n",
    "    tp = np.logical_and(test_labels, test_preds).sum()\n",
    "    fp = np.logical_and(1-test_labels, test_preds).sum()\n",
    "    tn = np.logical_and(1-test_labels, 1-test_preds).sum()\n",
    "    fn = np.logical_and(test_labels, 1-test_preds).sum()\n",
    "\n",
    "    # calculate binary classification metrics\n",
    "    recall = tp / (tp + fn)\n",
    "    precision = tp / (tp + fp)\n",
    "    f1 = 2*tp / (2*tp + fp + fn)\n",
    "\n",
    "    return (tp, fp, tn, fn, recall, precision, f1)"
   ]
  },
  {
   "cell_type": "code",
   "execution_count": 63,
   "metadata": {},
   "outputs": [
    {
     "name": "stdout",
     "output_type": "stream",
     "text": [
      "Benchmark model logistic regression: \n",
      "      recall: 65.17%, precision: 65.17%, f1: 65.17% \n",
      "      tp: 898, fp: 480, tn: 2276, fn: 480\n",
      "CPU times: user 204 ms, sys: 3.03 ms, total: 207 ms\n",
      "Wall time: 60.8 ms\n"
     ]
    }
   ],
   "source": [
    "%%time\n",
    "\n",
    "from sklearn.linear_model import LogisticRegression\n",
    "\n",
    "benchmark_classifier = LogisticRegression(C=1e-2, solver='lbfgs', multi_class='multinomial')\n",
    "\n",
    "benchmark_classifier.fit(pca_train_features, train_labels_original)\n",
    "\n",
    "scaler = StandardScaler()\n",
    "test_features = scaler.fit_transform(test_features)\n",
    "pca_test_features = pca.transform(test_features)\n",
    "test_preds = benchmark_classifier.predict(pca_test_features)\n",
    "\n",
    "test_preds_new = np.zeros((test_preds.shape[0], test_labels.shape[1]))\n",
    "for i in range(test_preds.shape[0]):\n",
    "    test_preds_new[i,int(test_preds[i])] = 1\n",
    "    \n",
    "(tp, fp, tn, fn, recall, precision, f1) = evaluation_metrics(test_labels, test_preds_new)\n",
    "print(\"Benchmark model logistic regression: \\n\\\n",
    "      recall: {:.2f}%, precision: {:.2f}%, f1: {:.2f}% \\n\\\n",
    "      tp: {}, fp: {}, tn: {}, fn: {}\".format(100*recall, 100*precision, 100*f1, tp, fp, tn, fn))\n",
    "\n"
   ]
  },
  {
   "cell_type": "code",
   "execution_count": 64,
   "metadata": {},
   "outputs": [
    {
     "name": "stdout",
     "output_type": "stream",
     "text": [
      "micro evaluation: KNN \n",
      "      recall: 59.80%, precision: 60.32%, f1: 60.06% \n",
      "      tp: 824, fp: 542, tn: 2214, fn: 554\n",
      "micro evaluation: Decision Tree \n",
      "      recall: 65.09%, precision: 65.14%, f1: 65.12% \n",
      "      tp: 897, fp: 480, tn: 2276, fn: 481\n",
      "micro evaluation: Neural Net \n",
      "      recall: 68.72%, precision: 69.38%, f1: 69.05% \n",
      "      tp: 947, fp: 418, tn: 2338, fn: 431\n",
      "CPU times: user 24.5 s, sys: 844 ms, total: 25.3 s\n",
      "Wall time: 6.7 s\n"
     ]
    }
   ],
   "source": [
    "%%time \n",
    "\n",
    "from sklearn.neighbors import KNeighborsClassifier\n",
    "from sklearn.tree import DecisionTreeClassifier\n",
    "from sklearn.neural_network import MLPClassifier\n",
    "\n",
    "names = [\"KNN\", \"Decision Tree\", \"Neural Net\"]\n",
    "\n",
    "classifiers = [\n",
    "    KNeighborsClassifier(3), #inherently multiclass\n",
    "    DecisionTreeClassifier(max_depth=5), #inherently multiclass\n",
    "    MLPClassifier(alpha=1, max_iter=1000)] #inherently multiclass\n",
    "\n",
    "for name, clf in zip(names, classifiers):\n",
    "    clf.fit(pca_train_features, train_labels)\n",
    "    \n",
    "    scaler = StandardScaler()\n",
    "    test_features = scaler.fit_transform(test_features)\n",
    "    pca_test_features = pca.transform(test_features)\n",
    "    test_preds = clf.predict(pca_test_features)\n",
    "    \n",
    "    (tp, fp, tn, fn, recall, precision, f1) = evaluation_metrics(test_labels, test_preds)\n",
    "    print(\"micro evaluation: {} \\n\\\n",
    "      recall: {:.2f}%, precision: {:.2f}%, f1: {:.2f}% \\n\\\n",
    "      tp: {}, fp: {}, tn: {}, fn: {}\".format(name, 100*recall, 100*precision, 100*f1, tp, fp, tn, fn))\n",
    "    \n"
   ]
  },
  {
   "cell_type": "markdown",
   "metadata": {},
   "source": [
    "## keras LSTM"
   ]
  },
  {
   "cell_type": "code",
   "execution_count": 65,
   "metadata": {},
   "outputs": [],
   "source": [
    "from keras.models import Sequential\n",
    "from keras.layers import Dense\n",
    "from keras.layers import LSTM\n",
    "from keras.layers import Dropout"
   ]
  },
  {
   "cell_type": "code",
   "execution_count": 66,
   "metadata": {},
   "outputs": [
    {
     "name": "stdout",
     "output_type": "stream",
     "text": [
      "(5459, 1, 20) (5459, 3) (1378, 1, 20) (1378, 3)\n"
     ]
    }
   ],
   "source": [
    "pca_train_features = pca_train_features.reshape((pca_train_features.shape[0], 1, pca_train_features.shape[1]))\n",
    "pca_test_features = pca_test_features.reshape((pca_test_features.shape[0], 1, pca_test_features.shape[1]))\n",
    "print(pca_train_features.shape, train_labels.shape, pca_test_features.shape, test_labels.shape)\n"
   ]
  },
  {
   "cell_type": "code",
   "execution_count": 111,
   "metadata": {},
   "outputs": [
    {
     "name": "stdout",
     "output_type": "stream",
     "text": [
      "Train on 5459 samples, validate on 1378 samples\n",
      "Epoch 1/50\n",
      " - 5s - loss: 1.0761 - acc: 0.4404 - val_loss: 1.0353 - val_acc: 0.5653\n",
      "Epoch 2/50\n",
      " - 0s - loss: 1.0050 - acc: 0.5834 - val_loss: 0.9642 - val_acc: 0.6517\n",
      "Epoch 3/50\n",
      " - 0s - loss: 0.9404 - acc: 0.6382 - val_loss: 0.8962 - val_acc: 0.6553\n",
      "Epoch 4/50\n",
      " - 0s - loss: 0.8738 - acc: 0.6650 - val_loss: 0.8326 - val_acc: 0.6546\n",
      "Epoch 5/50\n",
      " - 0s - loss: 0.8135 - acc: 0.6714 - val_loss: 0.7797 - val_acc: 0.6459\n",
      "Epoch 6/50\n",
      " - 0s - loss: 0.7629 - acc: 0.6719 - val_loss: 0.7400 - val_acc: 0.6451\n",
      "Epoch 7/50\n",
      " - 0s - loss: 0.7262 - acc: 0.6686 - val_loss: 0.7114 - val_acc: 0.6480\n",
      "Epoch 8/50\n",
      " - 0s - loss: 0.6972 - acc: 0.6778 - val_loss: 0.6904 - val_acc: 0.6524\n",
      "Epoch 9/50\n",
      " - 0s - loss: 0.6754 - acc: 0.6807 - val_loss: 0.6750 - val_acc: 0.6553\n",
      "Epoch 10/50\n",
      " - 0s - loss: 0.6630 - acc: 0.6816 - val_loss: 0.6642 - val_acc: 0.6553\n",
      "Epoch 11/50\n",
      " - 0s - loss: 0.6529 - acc: 0.6846 - val_loss: 0.6549 - val_acc: 0.6626\n",
      "Epoch 12/50\n",
      " - 0s - loss: 0.6432 - acc: 0.6864 - val_loss: 0.6484 - val_acc: 0.6647\n",
      "Epoch 13/50\n",
      " - 0s - loss: 0.6406 - acc: 0.6838 - val_loss: 0.6441 - val_acc: 0.6640\n",
      "Epoch 14/50\n",
      " - 0s - loss: 0.6352 - acc: 0.6890 - val_loss: 0.6398 - val_acc: 0.6647\n",
      "Epoch 15/50\n",
      " - 0s - loss: 0.6294 - acc: 0.6866 - val_loss: 0.6375 - val_acc: 0.6647\n",
      "Epoch 16/50\n",
      " - 0s - loss: 0.6243 - acc: 0.6923 - val_loss: 0.6355 - val_acc: 0.6647\n",
      "Epoch 17/50\n",
      " - 0s - loss: 0.6249 - acc: 0.6880 - val_loss: 0.6341 - val_acc: 0.6647\n",
      "Epoch 18/50\n",
      " - 0s - loss: 0.6226 - acc: 0.6904 - val_loss: 0.6315 - val_acc: 0.6676\n",
      "Epoch 19/50\n",
      " - 0s - loss: 0.6200 - acc: 0.6851 - val_loss: 0.6296 - val_acc: 0.6698\n",
      "Epoch 20/50\n",
      " - 0s - loss: 0.6197 - acc: 0.6935 - val_loss: 0.6288 - val_acc: 0.6691\n",
      "Epoch 21/50\n",
      " - 0s - loss: 0.6142 - acc: 0.6932 - val_loss: 0.6283 - val_acc: 0.6691\n",
      "Epoch 22/50\n",
      " - 0s - loss: 0.6141 - acc: 0.6946 - val_loss: 0.6262 - val_acc: 0.6684\n",
      "Epoch 23/50\n",
      " - 0s - loss: 0.6139 - acc: 0.6941 - val_loss: 0.6260 - val_acc: 0.6691\n",
      "Epoch 24/50\n",
      " - 0s - loss: 0.6084 - acc: 0.6935 - val_loss: 0.6253 - val_acc: 0.6698\n",
      "Epoch 25/50\n",
      " - 0s - loss: 0.6104 - acc: 0.6999 - val_loss: 0.6247 - val_acc: 0.6713\n",
      "Epoch 26/50\n",
      " - 0s - loss: 0.6073 - acc: 0.6963 - val_loss: 0.6243 - val_acc: 0.6705\n",
      "Epoch 27/50\n",
      " - 0s - loss: 0.6046 - acc: 0.7007 - val_loss: 0.6241 - val_acc: 0.6713\n",
      "Epoch 28/50\n",
      " - 0s - loss: 0.6080 - acc: 0.6974 - val_loss: 0.6231 - val_acc: 0.6727\n",
      "Epoch 29/50\n",
      " - 0s - loss: 0.6030 - acc: 0.6988 - val_loss: 0.6222 - val_acc: 0.6734\n",
      "Epoch 30/50\n",
      " - 0s - loss: 0.6031 - acc: 0.7012 - val_loss: 0.6225 - val_acc: 0.6742\n",
      "Epoch 31/50\n",
      " - 0s - loss: 0.5997 - acc: 0.6966 - val_loss: 0.6230 - val_acc: 0.6742\n",
      "Epoch 32/50\n",
      " - 0s - loss: 0.6033 - acc: 0.7025 - val_loss: 0.6222 - val_acc: 0.6763\n",
      "Epoch 33/50\n",
      " - 0s - loss: 0.6022 - acc: 0.6932 - val_loss: 0.6220 - val_acc: 0.6771\n",
      "Epoch 34/50\n",
      " - 0s - loss: 0.6014 - acc: 0.6985 - val_loss: 0.6214 - val_acc: 0.6807\n",
      "Epoch 35/50\n",
      " - 0s - loss: 0.6008 - acc: 0.7032 - val_loss: 0.6205 - val_acc: 0.6800\n",
      "Epoch 36/50\n",
      " - 0s - loss: 0.5998 - acc: 0.7049 - val_loss: 0.6198 - val_acc: 0.6792\n",
      "Epoch 37/50\n",
      " - 0s - loss: 0.5987 - acc: 0.6999 - val_loss: 0.6198 - val_acc: 0.6800\n",
      "Epoch 38/50\n",
      " - 0s - loss: 0.5975 - acc: 0.7034 - val_loss: 0.6195 - val_acc: 0.6836\n",
      "Epoch 39/50\n",
      " - 0s - loss: 0.5984 - acc: 0.7016 - val_loss: 0.6203 - val_acc: 0.6821\n",
      "Epoch 40/50\n",
      " - 0s - loss: 0.5961 - acc: 0.7005 - val_loss: 0.6203 - val_acc: 0.6836\n",
      "Epoch 41/50\n",
      " - 0s - loss: 0.5980 - acc: 0.7027 - val_loss: 0.6205 - val_acc: 0.6829\n",
      "Epoch 42/50\n",
      " - 0s - loss: 0.5957 - acc: 0.7025 - val_loss: 0.6195 - val_acc: 0.6814\n",
      "Epoch 43/50\n",
      " - 0s - loss: 0.5932 - acc: 0.7025 - val_loss: 0.6191 - val_acc: 0.6814\n",
      "Epoch 44/50\n",
      " - 0s - loss: 0.5887 - acc: 0.7047 - val_loss: 0.6197 - val_acc: 0.6814\n",
      "Epoch 45/50\n",
      " - 0s - loss: 0.5933 - acc: 0.7062 - val_loss: 0.6199 - val_acc: 0.6814\n",
      "Epoch 46/50\n",
      " - 0s - loss: 0.5912 - acc: 0.7093 - val_loss: 0.6192 - val_acc: 0.6843\n",
      "Epoch 47/50\n",
      " - 0s - loss: 0.5925 - acc: 0.7062 - val_loss: 0.6194 - val_acc: 0.6821\n",
      "Epoch 48/50\n",
      " - 0s - loss: 0.5955 - acc: 0.6988 - val_loss: 0.6186 - val_acc: 0.6843\n",
      "Epoch 49/50\n",
      " - 0s - loss: 0.5923 - acc: 0.7001 - val_loss: 0.6188 - val_acc: 0.6829\n",
      "Epoch 50/50\n",
      " - 0s - loss: 0.5884 - acc: 0.7082 - val_loss: 0.6189 - val_acc: 0.6829\n",
      "CPU times: user 32.2 s, sys: 11.3 s, total: 43.5 s\n",
      "Wall time: 17.5 s\n"
     ]
    }
   ],
   "source": [
    "%%time\n",
    "\n",
    "# design network\n",
    "model = Sequential()\n",
    "model.add(LSTM(100, input_shape=(pca_train_features.shape[1], pca_train_features.shape[2])))\n",
    "model.add(Dropout(0.5))\n",
    "model.add(Dense(3, activation='softmax'))\n",
    "model.compile(loss='categorical_crossentropy', optimizer='adam', metrics=['accuracy'])\n",
    "\n",
    "# fit network\n",
    "history = model.fit(pca_train_features, train_labels, epochs=50, batch_size=260, validation_data=(pca_test_features, test_labels), verbose=2, shuffle=False)\n"
   ]
  },
  {
   "cell_type": "code",
   "execution_count": 112,
   "metadata": {},
   "outputs": [
    {
     "data": {
      "image/png": "[encoded data removed]",
      "text/plain": [
       "<Figure size 432x288 with 1 Axes>"
      ]
     },
     "metadata": {},
     "output_type": "display_data"
    },
    {
     "data": {
      "image/png": "[encoded data removed]",
      "text/plain": [
       "<Figure size 432x288 with 1 Axes>"
      ]
     },
     "metadata": {},
     "output_type": "display_data"
    }
   ],
   "source": [
    "acc = history.history['acc']\n",
    "val_acc = history.history['val_acc']\n",
    "loss = history.history['loss']\n",
    "val_loss = history.history['val_loss']\n",
    "\n",
    "\n",
    "plt.plot(acc, 'bo', label='Training acc')\n",
    "plt.plot(val_acc, 'b', label='Validation acc')\n",
    "plt.title('Training and validation accuracy')\n",
    "plt.legend()\n",
    "\n",
    "plt.figure()\n",
    "\n",
    "plt.plot(loss, 'bo', label='Training loss')\n",
    "plt.plot(val_loss, 'b', label='Validation loss')\n",
    "plt.title('Training and validation loss')\n",
    "plt.legend()\n",
    "\n",
    "plt.show()"
   ]
  },
  {
   "cell_type": "code",
   "execution_count": 113,
   "metadata": {},
   "outputs": [],
   "source": [
    "from numpy import concatenate\n",
    "from math import sqrt\n",
    "from sklearn.metrics import mean_squared_error\n",
    "# make a prediction\n",
    "\n",
    "test_preds = model.predict(pca_test_features)\n",
    "test_labels = test_labels.reshape(test_labels.shape[0],3)\n",
    "\n",
    "test_preds_new = np.zeros((test_preds.shape[0], test_preds.shape[1]))\n",
    "for i in range(test_preds.shape[0]):\n",
    "      highest_prob = np.argmax(test_preds[i,:])\n",
    "      test_preds_new[i,highest_prob] = 1\n"
   ]
  },
  {
   "cell_type": "code",
   "execution_count": 114,
   "metadata": {},
   "outputs": [
    {
     "name": "stdout",
     "output_type": "stream",
     "text": [
      "LSTM \n",
      "      recall: 68.29%, precision: 68.29%, f1: 68.29% \n",
      "      tp: 941, fp: 437, tn: 2319, fn: 437\n"
     ]
    }
   ],
   "source": [
    "(tp, fp, tn, fn, recall, precision, f1) = evaluation_metrics(test_labels, test_preds_new)\n",
    "print(\"LSTM \\n\\\n",
    "      recall: {:.2f}%, precision: {:.2f}%, f1: {:.2f}% \\n\\\n",
    "      tp: {}, fp: {}, tn: {}, fn: {}\".format(100*recall, 100*precision, 100*f1, tp, fp, tn, fn))"
   ]
  },
  {
   "cell_type": "code",
   "execution_count": null,
   "metadata": {},
   "outputs": [],
   "source": []
  },
  {
   "cell_type": "code",
   "execution_count": null,
   "metadata": {},
   "outputs": [],
   "source": []
  },
  {
   "cell_type": "code",
   "execution_count": null,
   "metadata": {},
   "outputs": [],
   "source": []
  },
  {
   "cell_type": "code",
   "execution_count": null,
   "metadata": {},
   "outputs": [],
   "source": []
  }
 ],
 "metadata": {
  "kernelspec": {
   "display_name": "conda_tensorflow_p36",
   "language": "python",
   "name": "conda_tensorflow_p36"
  },
  "language_info": {
   "codemirror_mode": {
    "name": "ipython",
    "version": 3
   },
   "file_extension": ".py",
   "mimetype": "text/x-python",
   "name": "python",
   "nbconvert_exporter": "python",
   "pygments_lexer": "ipython3",
   "version": "3.6.5"
  }
 },
 "nbformat": 4,
 "nbformat_minor": 4
}
